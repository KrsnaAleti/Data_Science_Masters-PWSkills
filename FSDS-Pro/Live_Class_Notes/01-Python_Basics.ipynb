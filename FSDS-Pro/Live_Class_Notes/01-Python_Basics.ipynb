{
 "cells": [
  {
   "cell_type": "markdown",
   "id": "c4d65502-f86d-4663-965d-487e23fb3d99",
   "metadata": {},
   "source": [
    "# 19.08.2023"
   ]
  },
  {
   "cell_type": "markdown",
   "id": "66010803-02e7-4124-b1bc-5d5188d27557",
   "metadata": {
    "tags": []
   },
   "source": [
    "### Python-Variables:"
   ]
  },
  {
   "cell_type": "code",
   "execution_count": 1,
   "id": "b2dcb29f-beb4-4825-9603-b6cae6661be7",
   "metadata": {},
   "outputs": [
    {
     "data": {
      "text/plain": [
       "3"
      ]
     },
     "execution_count": 1,
     "metadata": {},
     "output_type": "execute_result"
    }
   ],
   "source": [
    "1+2"
   ]
  },
  {
   "cell_type": "code",
   "execution_count": 2,
   "id": "14f5e2eb-0295-4b20-82f7-337abac64b72",
   "metadata": {},
   "outputs": [
    {
     "name": "stdout",
     "output_type": "stream",
     "text": [
      "hello\n"
     ]
    }
   ],
   "source": [
    "print(\"hello\")"
   ]
  },
  {
   "cell_type": "code",
   "execution_count": 3,
   "id": "f02500da-75a0-4b73-a1f4-2531abba4385",
   "metadata": {},
   "outputs": [],
   "source": [
    "a=10"
   ]
  },
  {
   "cell_type": "code",
   "execution_count": 4,
   "id": "069f4301-74b0-4741-a5dd-86753da436ef",
   "metadata": {},
   "outputs": [
    {
     "data": {
      "text/plain": [
       "10"
      ]
     },
     "execution_count": 4,
     "metadata": {},
     "output_type": "execute_result"
    }
   ],
   "source": [
    "a"
   ]
  },
  {
   "cell_type": "code",
   "execution_count": 5,
   "id": "eb1ca23a-5807-4629-aa0f-0759f2dcdee9",
   "metadata": {},
   "outputs": [
    {
     "data": {
      "text/plain": [
       "int"
      ]
     },
     "execution_count": 5,
     "metadata": {},
     "output_type": "execute_result"
    }
   ],
   "source": [
    "type(a)"
   ]
  },
  {
   "cell_type": "code",
   "execution_count": 10,
   "id": "96071cc3-4bcc-4d12-8ffe-745d3c1d291a",
   "metadata": {},
   "outputs": [
    {
     "data": {
      "text/plain": [
       "139749731779088"
      ]
     },
     "execution_count": 10,
     "metadata": {},
     "output_type": "execute_result"
    }
   ],
   "source": [
    "# gives the address of the variable\n",
    "id(a)"
   ]
  },
  {
   "cell_type": "code",
   "execution_count": 11,
   "id": "c3ecca66-4efc-4027-9116-245471ea250d",
   "metadata": {},
   "outputs": [],
   "source": [
    "s='pwskills'"
   ]
  },
  {
   "cell_type": "code",
   "execution_count": 14,
   "id": "6d158563-cee9-4616-9692-af4faaced487",
   "metadata": {},
   "outputs": [
    {
     "data": {
      "text/plain": [
       "'pwskills'"
      ]
     },
     "execution_count": 14,
     "metadata": {},
     "output_type": "execute_result"
    }
   ],
   "source": [
    "s"
   ]
  },
  {
   "cell_type": "code",
   "execution_count": 12,
   "id": "96ee3467-ea00-4921-9473-c08dfa927a21",
   "metadata": {},
   "outputs": [
    {
     "data": {
      "text/plain": [
       "str"
      ]
     },
     "execution_count": 12,
     "metadata": {},
     "output_type": "execute_result"
    }
   ],
   "source": [
    "type(s)"
   ]
  },
  {
   "cell_type": "code",
   "execution_count": 13,
   "id": "10396149-32be-4d1c-8865-e79c3c167f9f",
   "metadata": {},
   "outputs": [
    {
     "data": {
      "text/plain": [
       "139749647715376"
      ]
     },
     "execution_count": 13,
     "metadata": {},
     "output_type": "execute_result"
    }
   ],
   "source": [
    "id(s)"
   ]
  },
  {
   "cell_type": "code",
   "execution_count": 15,
   "id": "da4d9a01-0d1a-470b-ac47-4dbb3e4dfdea",
   "metadata": {},
   "outputs": [],
   "source": [
    "f=10.05"
   ]
  },
  {
   "cell_type": "code",
   "execution_count": 16,
   "id": "cf4ed279-d5af-476f-a158-2f426ba7b25a",
   "metadata": {},
   "outputs": [
    {
     "data": {
      "text/plain": [
       "float"
      ]
     },
     "execution_count": 16,
     "metadata": {},
     "output_type": "execute_result"
    }
   ],
   "source": [
    "type(f)"
   ]
  },
  {
   "cell_type": "code",
   "execution_count": 17,
   "id": "75802e45-cd45-4544-b33e-a0d9975f98da",
   "metadata": {},
   "outputs": [
    {
     "data": {
      "text/plain": [
       "139749682220688"
      ]
     },
     "execution_count": 17,
     "metadata": {},
     "output_type": "execute_result"
    }
   ],
   "source": [
    "id(f)"
   ]
  },
  {
   "cell_type": "code",
   "execution_count": 18,
   "id": "cb0181f7-ad0e-4ff0-82b0-860d47f3d347",
   "metadata": {},
   "outputs": [],
   "source": [
    "c=1+2j"
   ]
  },
  {
   "cell_type": "code",
   "execution_count": 19,
   "id": "6c7a7539-02f3-4438-b7b0-e584a09d2e92",
   "metadata": {},
   "outputs": [
    {
     "data": {
      "text/plain": [
       "(1+2j)"
      ]
     },
     "execution_count": 19,
     "metadata": {},
     "output_type": "execute_result"
    }
   ],
   "source": [
    "c"
   ]
  },
  {
   "cell_type": "code",
   "execution_count": 20,
   "id": "7d56b34c-12ab-4958-b74d-f32d59ef3b2e",
   "metadata": {},
   "outputs": [
    {
     "data": {
      "text/plain": [
       "complex"
      ]
     },
     "execution_count": 20,
     "metadata": {},
     "output_type": "execute_result"
    }
   ],
   "source": [
    "type(c)"
   ]
  },
  {
   "cell_type": "code",
   "execution_count": 22,
   "id": "a9fe61b6-7a46-4d7c-8241-af5ecbac31b7",
   "metadata": {},
   "outputs": [
    {
     "data": {
      "text/plain": [
       "2.0"
      ]
     },
     "execution_count": 22,
     "metadata": {},
     "output_type": "execute_result"
    }
   ],
   "source": [
    "c.imag"
   ]
  },
  {
   "cell_type": "code",
   "execution_count": 23,
   "id": "9d8802b2-0cc9-4ed5-8928-3516f188b791",
   "metadata": {},
   "outputs": [
    {
     "data": {
      "text/plain": [
       "1.0"
      ]
     },
     "execution_count": 23,
     "metadata": {},
     "output_type": "execute_result"
    }
   ],
   "source": [
    "c.real"
   ]
  },
  {
   "cell_type": "code",
   "execution_count": 30,
   "id": "0aab5b19-3ce0-4bb7-a29e-07cede8e7822",
   "metadata": {},
   "outputs": [
    {
     "data": {
      "text/plain": [
       "float"
      ]
     },
     "execution_count": 30,
     "metadata": {},
     "output_type": "execute_result"
    }
   ],
   "source": [
    "type(c.real)"
   ]
  },
  {
   "cell_type": "code",
   "execution_count": 24,
   "id": "9052a666-40ce-4526-a4b4-4e50b693f03a",
   "metadata": {},
   "outputs": [],
   "source": [
    "b=True"
   ]
  },
  {
   "cell_type": "code",
   "execution_count": 26,
   "id": "493c8e94-6c84-449f-a25f-6626b0f8e36c",
   "metadata": {},
   "outputs": [
    {
     "data": {
      "text/plain": [
       "True"
      ]
     },
     "execution_count": 26,
     "metadata": {},
     "output_type": "execute_result"
    }
   ],
   "source": [
    "b"
   ]
  },
  {
   "cell_type": "code",
   "execution_count": 25,
   "id": "f7176cbd-443f-4776-8f45-0788399007c5",
   "metadata": {},
   "outputs": [
    {
     "data": {
      "text/plain": [
       "bool"
      ]
     },
     "execution_count": 25,
     "metadata": {},
     "output_type": "execute_result"
    }
   ],
   "source": [
    "type(b)"
   ]
  },
  {
   "cell_type": "code",
   "execution_count": 27,
   "id": "f463cf42-ee56-4243-a999-15dab89e16db",
   "metadata": {},
   "outputs": [],
   "source": [
    "b1=False"
   ]
  },
  {
   "cell_type": "code",
   "execution_count": 28,
   "id": "8c05bab9-b821-421a-98c2-639c3122cc61",
   "metadata": {},
   "outputs": [
    {
     "data": {
      "text/plain": [
       "False"
      ]
     },
     "execution_count": 28,
     "metadata": {},
     "output_type": "execute_result"
    }
   ],
   "source": [
    "b1"
   ]
  },
  {
   "cell_type": "code",
   "execution_count": 29,
   "id": "113b5a82-bce7-4c6d-9647-131714343c6f",
   "metadata": {},
   "outputs": [
    {
     "data": {
      "text/plain": [
       "bool"
      ]
     },
     "execution_count": 29,
     "metadata": {},
     "output_type": "execute_result"
    }
   ],
   "source": [
    "type(b1)"
   ]
  },
  {
   "cell_type": "code",
   "execution_count": 33,
   "id": "d7b81bca-d0f6-4ad3-a66e-2bb4b4565fc4",
   "metadata": {},
   "outputs": [],
   "source": [
    "a1=10\n",
    "a2=15"
   ]
  },
  {
   "cell_type": "code",
   "execution_count": 34,
   "id": "5eae47d7-f809-441a-a219-0882b03b2cc8",
   "metadata": {},
   "outputs": [
    {
     "data": {
      "text/plain": [
       "25"
      ]
     },
     "execution_count": 34,
     "metadata": {},
     "output_type": "execute_result"
    }
   ],
   "source": [
    "a1+a2"
   ]
  },
  {
   "cell_type": "code",
   "execution_count": 35,
   "id": "36c10a32-5dfe-47cb-957a-80499d3b5654",
   "metadata": {},
   "outputs": [
    {
     "data": {
      "text/plain": [
       "150"
      ]
     },
     "execution_count": 35,
     "metadata": {},
     "output_type": "execute_result"
    }
   ],
   "source": [
    "a1*a2"
   ]
  },
  {
   "cell_type": "code",
   "execution_count": 36,
   "id": "3907c7bd-9661-411d-98a0-3716530e4b1e",
   "metadata": {},
   "outputs": [
    {
     "data": {
      "text/plain": [
       "1.5"
      ]
     },
     "execution_count": 36,
     "metadata": {},
     "output_type": "execute_result"
    }
   ],
   "source": [
    "a2/a1"
   ]
  },
  {
   "cell_type": "code",
   "execution_count": 37,
   "id": "b1419831-d391-41e2-930d-3d96bd498c8b",
   "metadata": {},
   "outputs": [],
   "source": [
    "a3,a4=20,25"
   ]
  },
  {
   "cell_type": "code",
   "execution_count": 39,
   "id": "5669f9df-2771-43a2-b2ac-e682e74605b5",
   "metadata": {},
   "outputs": [
    {
     "data": {
      "text/plain": [
       "20"
      ]
     },
     "execution_count": 39,
     "metadata": {},
     "output_type": "execute_result"
    }
   ],
   "source": [
    "a3"
   ]
  },
  {
   "cell_type": "code",
   "execution_count": 41,
   "id": "8f7f5102-e504-4eba-88a3-e9b1f6f9ee3e",
   "metadata": {},
   "outputs": [
    {
     "data": {
      "text/plain": [
       "45"
      ]
     },
     "execution_count": 41,
     "metadata": {},
     "output_type": "execute_result"
    }
   ],
   "source": [
    "a3+a4"
   ]
  },
  {
   "cell_type": "code",
   "execution_count": 40,
   "id": "b889da89-44eb-4e4f-915f-b48a88e5c390",
   "metadata": {},
   "outputs": [
    {
     "data": {
      "text/plain": [
       "25"
      ]
     },
     "execution_count": 40,
     "metadata": {},
     "output_type": "execute_result"
    }
   ],
   "source": [
    "a4"
   ]
  },
  {
   "cell_type": "code",
   "execution_count": 42,
   "id": "98af57ac-3169-4a69-bbce-d1222d4bd639",
   "metadata": {},
   "outputs": [],
   "source": [
    "x,y,z=1,'krish',1+3j"
   ]
  },
  {
   "cell_type": "code",
   "execution_count": 43,
   "id": "1d5eaaa4-69f6-4c48-9b0b-47b4ba6bd063",
   "metadata": {},
   "outputs": [
    {
     "data": {
      "text/plain": [
       "1"
      ]
     },
     "execution_count": 43,
     "metadata": {},
     "output_type": "execute_result"
    }
   ],
   "source": [
    "x"
   ]
  },
  {
   "cell_type": "code",
   "execution_count": 44,
   "id": "b2572e7f-6124-4418-88c9-b6aecaebbaf6",
   "metadata": {},
   "outputs": [
    {
     "data": {
      "text/plain": [
       "'krish'"
      ]
     },
     "execution_count": 44,
     "metadata": {},
     "output_type": "execute_result"
    }
   ],
   "source": [
    "y"
   ]
  },
  {
   "cell_type": "code",
   "execution_count": 45,
   "id": "b3f765b0-da0a-4349-a744-fa94fc29aaf8",
   "metadata": {},
   "outputs": [
    {
     "data": {
      "text/plain": [
       "(1+3j)"
      ]
     },
     "execution_count": 45,
     "metadata": {},
     "output_type": "execute_result"
    }
   ],
   "source": [
    "z"
   ]
  },
  {
   "cell_type": "code",
   "execution_count": 50,
   "id": "37761dc7-be91-4674-bd44-c2669f42d06a",
   "metadata": {},
   "outputs": [],
   "source": [
    "_a='valid'"
   ]
  },
  {
   "cell_type": "code",
   "execution_count": 51,
   "id": "5c6d5ecf-3a21-46be-9141-b0f20ffa2e15",
   "metadata": {},
   "outputs": [
    {
     "data": {
      "text/plain": [
       "'valid'"
      ]
     },
     "execution_count": 51,
     "metadata": {},
     "output_type": "execute_result"
    }
   ],
   "source": [
    "_a"
   ]
  },
  {
   "cell_type": "markdown",
   "id": "831dba98-f1b7-48a8-8cd5-f6afc63fad28",
   "metadata": {},
   "source": [
    "------------"
   ]
  },
  {
   "cell_type": "markdown",
   "id": "8a1c3e9e-fadd-4003-a355-05f31ef131b7",
   "metadata": {
    "tags": []
   },
   "source": [
    "##### Invalid Variables:"
   ]
  },
  {
   "cell_type": "code",
   "execution_count": 47,
   "id": "78133425-76bf-4158-b34d-c364501bebd0",
   "metadata": {},
   "outputs": [
    {
     "name": "stderr",
     "output_type": "stream",
     "text": [
      "UsageError: Line magic function `%a=1` not found.\n"
     ]
    }
   ],
   "source": [
    "%a=1"
   ]
  },
  {
   "cell_type": "code",
   "execution_count": 119,
   "id": "d048b3cf-7e8b-480a-8709-27db1acd314b",
   "metadata": {},
   "outputs": [
    {
     "ename": "SyntaxError",
     "evalue": "invalid binary literal (3974385814.py, line 1)",
     "output_type": "error",
     "traceback": [
      "\u001b[0;36m  Cell \u001b[0;32mIn[119], line 1\u001b[0;36m\u001b[0m\n\u001b[0;31m    0b='test'\u001b[0m\n\u001b[0m     ^\u001b[0m\n\u001b[0;31mSyntaxError\u001b[0m\u001b[0;31m:\u001b[0m invalid binary literal\n"
     ]
    }
   ],
   "source": [
    "0b='test'"
   ]
  },
  {
   "cell_type": "code",
   "execution_count": 49,
   "id": "5f780133-e178-4968-b2ba-951d73aada97",
   "metadata": {},
   "outputs": [
    {
     "ename": "SyntaxError",
     "evalue": "invalid syntax. Maybe you meant '==' or ':=' instead of '='? (1755264689.py, line 1)",
     "output_type": "error",
     "traceback": [
      "\u001b[0;36m  Cell \u001b[0;32mIn[49], line 1\u001b[0;36m\u001b[0m\n\u001b[0;31m    @h='ok'\u001b[0m\n\u001b[0m     ^\u001b[0m\n\u001b[0;31mSyntaxError\u001b[0m\u001b[0;31m:\u001b[0m invalid syntax. Maybe you meant '==' or ':=' instead of '='?\n"
     ]
    }
   ],
   "source": [
    "@h='ok'"
   ]
  },
  {
   "cell_type": "code",
   "execution_count": 52,
   "id": "9316479f-1199-43db-a71c-56c82faaf0e7",
   "metadata": {},
   "outputs": [
    {
     "ename": "SyntaxError",
     "evalue": "cannot assign to expression here. Maybe you meant '==' instead of '='? (431735699.py, line 1)",
     "output_type": "error",
     "traceback": [
      "\u001b[0;36m  Cell \u001b[0;32mIn[52], line 1\u001b[0;36m\u001b[0m\n\u001b[0;31m    -b=24\u001b[0m\n\u001b[0m    ^\u001b[0m\n\u001b[0;31mSyntaxError\u001b[0m\u001b[0;31m:\u001b[0m cannot assign to expression here. Maybe you meant '==' instead of '='?\n"
     ]
    }
   ],
   "source": [
    "-b=24"
   ]
  },
  {
   "cell_type": "code",
   "execution_count": 54,
   "id": "71f2ec41-1f84-4950-821b-b0e35ad9c65c",
   "metadata": {},
   "outputs": [
    {
     "ename": "SyntaxError",
     "evalue": "cannot assign to True (2461186672.py, line 1)",
     "output_type": "error",
     "traceback": [
      "\u001b[0;36m  Cell \u001b[0;32mIn[54], line 1\u001b[0;36m\u001b[0m\n\u001b[0;31m    True=26\u001b[0m\n\u001b[0m    ^\u001b[0m\n\u001b[0;31mSyntaxError\u001b[0m\u001b[0;31m:\u001b[0m cannot assign to True\n"
     ]
    }
   ],
   "source": [
    "True=26"
   ]
  },
  {
   "cell_type": "markdown",
   "id": "71dedf0b-ad65-41cb-9b1e-1662b61e360b",
   "metadata": {},
   "source": [
    "-------------------"
   ]
  },
  {
   "cell_type": "code",
   "execution_count": 59,
   "id": "7f74e1c0-0c0b-48f6-83a8-0fa3fd5668c9",
   "metadata": {},
   "outputs": [],
   "source": [
    "b1=True #True=1"
   ]
  },
  {
   "cell_type": "code",
   "execution_count": 60,
   "id": "85fb99f8-ec64-44b0-82a4-79c43faa5ac5",
   "metadata": {},
   "outputs": [],
   "source": [
    "b2=False #False=0"
   ]
  },
  {
   "cell_type": "code",
   "execution_count": 61,
   "id": "a349341d-756b-4018-80c3-2db31edb7bf8",
   "metadata": {},
   "outputs": [
    {
     "data": {
      "text/plain": [
       "1"
      ]
     },
     "execution_count": 61,
     "metadata": {},
     "output_type": "execute_result"
    }
   ],
   "source": [
    "b1-b2"
   ]
  },
  {
   "cell_type": "code",
   "execution_count": 62,
   "id": "89655338-ff79-4bb2-9d96-b050f50ed277",
   "metadata": {},
   "outputs": [
    {
     "ename": "ZeroDivisionError",
     "evalue": "division by zero",
     "output_type": "error",
     "traceback": [
      "\u001b[0;31m---------------------------------------------------------------------------\u001b[0m",
      "\u001b[0;31mZeroDivisionError\u001b[0m                         Traceback (most recent call last)",
      "Cell \u001b[0;32mIn[62], line 1\u001b[0m\n\u001b[0;32m----> 1\u001b[0m \u001b[43mb1\u001b[49m\u001b[38;5;241;43m/\u001b[39;49m\u001b[43mb2\u001b[49m\n",
      "\u001b[0;31mZeroDivisionError\u001b[0m: division by zero"
     ]
    }
   ],
   "source": [
    "b1/b2"
   ]
  },
  {
   "cell_type": "code",
   "execution_count": 63,
   "id": "7b16fca0-3d04-4c69-a3c8-6b642dba77b4",
   "metadata": {},
   "outputs": [
    {
     "data": {
      "text/plain": [
       "0"
      ]
     },
     "execution_count": 63,
     "metadata": {},
     "output_type": "execute_result"
    }
   ],
   "source": [
    "b1*b2"
   ]
  },
  {
   "cell_type": "code",
   "execution_count": 80,
   "id": "a5a0ac47-1aae-4fc8-a35c-e6bfea24d472",
   "metadata": {},
   "outputs": [
    {
     "ename": "SyntaxError",
     "evalue": "unterminated string literal (detected at line 1) (3082732644.py, line 1)",
     "output_type": "error",
     "traceback": [
      "\u001b[0;36m  Cell \u001b[0;32mIn[80], line 1\u001b[0;36m\u001b[0m\n\u001b[0;31m    s2='This is my first class for the data science master's'\u001b[0m\n\u001b[0m                                                            ^\u001b[0m\n\u001b[0;31mSyntaxError\u001b[0m\u001b[0;31m:\u001b[0m unterminated string literal (detected at line 1)\n"
     ]
    }
   ],
   "source": [
    "s2='This is my first class for the data science master's'"
   ]
  },
  {
   "cell_type": "code",
   "execution_count": null,
   "id": "4b8ea3d6-8586-43f4-b6ad-4bd7785ec342",
   "metadata": {},
   "outputs": [],
   "source": [
    "s4=\"This is my first class for the data science master's\""
   ]
  },
  {
   "cell_type": "code",
   "execution_count": 79,
   "id": "aa019e0d-a0cf-451b-a667-dec1e7f45829",
   "metadata": {},
   "outputs": [
    {
     "data": {
      "text/plain": [
       "\"This is my first class for the data science master's\""
      ]
     },
     "execution_count": 79,
     "metadata": {},
     "output_type": "execute_result"
    }
   ],
   "source": [
    "s4"
   ]
  },
  {
   "cell_type": "code",
   "execution_count": 83,
   "id": "31f7604e-9f17-4f62-996a-2fa548dd307f",
   "metadata": {},
   "outputs": [],
   "source": [
    "s5='This is my first class for the data science master\"s'"
   ]
  },
  {
   "cell_type": "code",
   "execution_count": 84,
   "id": "d7dff60f-b67d-4ed9-ac53-95018737d44c",
   "metadata": {},
   "outputs": [
    {
     "data": {
      "text/plain": [
       "'This is my first class for the data science master\"s'"
      ]
     },
     "execution_count": 84,
     "metadata": {},
     "output_type": "execute_result"
    }
   ],
   "source": [
    "s5"
   ]
  },
  {
   "cell_type": "code",
   "execution_count": 81,
   "id": "a8606734-4a42-433a-83c1-30bcc29ee64f",
   "metadata": {},
   "outputs": [],
   "source": [
    "s3='This is my first class for the data science master\\'s' #use backslash"
   ]
  },
  {
   "cell_type": "code",
   "execution_count": 82,
   "id": "5b9d6cd8-d515-4767-8323-efa6b839b6b3",
   "metadata": {},
   "outputs": [
    {
     "data": {
      "text/plain": [
       "\"This is my first class for the data science master's\""
      ]
     },
     "execution_count": 82,
     "metadata": {},
     "output_type": "execute_result"
    }
   ],
   "source": [
    "s3"
   ]
  },
  {
   "cell_type": "markdown",
   "id": "8cdb830e-db74-4a43-bad4-872368fd0813",
   "metadata": {},
   "source": [
    "##### Comments:"
   ]
  },
  {
   "cell_type": "code",
   "execution_count": 85,
   "id": "74d53f07-5f71-40fb-a589-1a43e2c0e747",
   "metadata": {},
   "outputs": [
    {
     "ename": "SyntaxError",
     "evalue": "invalid syntax (2780860835.py, line 1)",
     "output_type": "error",
     "traceback": [
      "\u001b[0;36m  Cell \u001b[0;32mIn[85], line 1\u001b[0;36m\u001b[0m\n\u001b[0;31m    We are writing the comments here\u001b[0m\n\u001b[0m       ^\u001b[0m\n\u001b[0;31mSyntaxError\u001b[0m\u001b[0;31m:\u001b[0m invalid syntax\n"
     ]
    }
   ],
   "source": [
    "We are writing the comments here\n",
    "s3='This is my first class for the data science master\\'s' #use backslash"
   ]
  },
  {
   "cell_type": "code",
   "execution_count": 120,
   "id": "48014cb6-be2f-42fb-84b1-bfcd148b6f26",
   "metadata": {},
   "outputs": [],
   "source": [
    "#single line comment -We are writing the comments here --- use hashtag\n",
    "s3='This is my first class for the data science master\\'s' #use backslash"
   ]
  },
  {
   "cell_type": "code",
   "execution_count": 89,
   "id": "feb968fa-1e6b-4e10-8186-a500ae1f7733",
   "metadata": {},
   "outputs": [
    {
     "ename": "SyntaxError",
     "evalue": "invalid syntax (3654256571.py, line 1)",
     "output_type": "error",
     "traceback": [
      "\u001b[0;36m  Cell \u001b[0;32mIn[89], line 1\u001b[0;36m\u001b[0m\n\u001b[0;31m    Multiline comments\u001b[0m\n\u001b[0m              ^\u001b[0m\n\u001b[0;31mSyntaxError\u001b[0m\u001b[0;31m:\u001b[0m invalid syntax\n"
     ]
    }
   ],
   "source": [
    "Multiline comments\n",
    "This is the first technical class in FSDS Pro course\n",
    "The course instructor is Sudhanshu sir\n",
    "\n",
    "a=10"
   ]
  },
  {
   "cell_type": "code",
   "execution_count": 90,
   "id": "2413fd88-4159-45e5-8479-2a8dad9fb917",
   "metadata": {},
   "outputs": [],
   "source": [
    "# Multiline comments\n",
    "# This is the first technical class in FSDS Pro course\n",
    "# The course instructor is Sudhanshu sir\n",
    "# Here we are treating each line as individual comment\n",
    "\n",
    "a=10"
   ]
  },
  {
   "cell_type": "code",
   "execution_count": 91,
   "id": "4a61b363-d597-4316-87ab-00282eaa4ec4",
   "metadata": {},
   "outputs": [],
   "source": [
    "'''Multiline comments --- use 3 quotes\n",
    "This is the first technical class in FSDS Pro course\n",
    "The course instructor is Sudhanshu sir'''\n",
    "\n",
    "a=10"
   ]
  },
  {
   "cell_type": "markdown",
   "id": "e8499438-741c-43b1-9eed-b61c731412d0",
   "metadata": {},
   "source": [
    "------------------------"
   ]
  },
  {
   "cell_type": "markdown",
   "id": "c5f4e448-03b4-4651-a381-23a2bef51f14",
   "metadata": {},
   "source": [
    "### Strings:"
   ]
  },
  {
   "cell_type": "code",
   "execution_count": 92,
   "id": "f69c4feb-af89-4248-8d6b-c80f42a38e41",
   "metadata": {},
   "outputs": [],
   "source": [
    "s1='krish'\n",
    "a=10"
   ]
  },
  {
   "cell_type": "code",
   "execution_count": 96,
   "id": "db2ce6ed-3762-4af1-b521-8f70647eb56a",
   "metadata": {},
   "outputs": [
    {
     "data": {
      "text/plain": [
       "'krish'"
      ]
     },
     "execution_count": 96,
     "metadata": {},
     "output_type": "execute_result"
    }
   ],
   "source": [
    "s1"
   ]
  },
  {
   "cell_type": "code",
   "execution_count": 103,
   "id": "0ee97434-2961-4315-9ed5-7813a2c662f4",
   "metadata": {},
   "outputs": [
    {
     "data": {
      "text/plain": [
       "10"
      ]
     },
     "execution_count": 103,
     "metadata": {},
     "output_type": "execute_result"
    }
   ],
   "source": [
    "a"
   ]
  },
  {
   "cell_type": "code",
   "execution_count": 101,
   "id": "f7130b63-4b35-4b7f-8141-e8ec265b6780",
   "metadata": {},
   "outputs": [
    {
     "data": {
      "text/plain": [
       "'krishnaa'"
      ]
     },
     "execution_count": 101,
     "metadata": {},
     "output_type": "execute_result"
    }
   ],
   "source": [
    "'krishna'+'a' #plus operator means concatenation for strings"
   ]
  },
  {
   "cell_type": "code",
   "execution_count": 93,
   "id": "25a48183-2ddd-43a7-8242-4b47fd8d222d",
   "metadata": {},
   "outputs": [
    {
     "ename": "TypeError",
     "evalue": "can only concatenate str (not \"int\") to str",
     "output_type": "error",
     "traceback": [
      "\u001b[0;31m---------------------------------------------------------------------------\u001b[0m",
      "\u001b[0;31mTypeError\u001b[0m                                 Traceback (most recent call last)",
      "Cell \u001b[0;32mIn[93], line 1\u001b[0m\n\u001b[0;32m----> 1\u001b[0m \u001b[43ms1\u001b[49m\u001b[38;5;241;43m+\u001b[39;49m\u001b[43ma\u001b[49m\n",
      "\u001b[0;31mTypeError\u001b[0m: can only concatenate str (not \"int\") to str"
     ]
    }
   ],
   "source": [
    "s1+a"
   ]
  },
  {
   "cell_type": "code",
   "execution_count": 104,
   "id": "a74e0a0c-90ec-4554-aa36-12a60d7a7421",
   "metadata": {},
   "outputs": [
    {
     "data": {
      "text/plain": [
       "int"
      ]
     },
     "execution_count": 104,
     "metadata": {},
     "output_type": "execute_result"
    }
   ],
   "source": [
    "type(a)"
   ]
  },
  {
   "cell_type": "markdown",
   "id": "28167360-bdd2-4a3d-8f6c-3a1c7dbd5c09",
   "metadata": {},
   "source": [
    "##### Typecasting:"
   ]
  },
  {
   "cell_type": "code",
   "execution_count": 110,
   "id": "20e69fe0-264e-48db-a199-2a1786370d16",
   "metadata": {},
   "outputs": [
    {
     "data": {
      "text/plain": [
       "'10'"
      ]
     },
     "execution_count": 110,
     "metadata": {},
     "output_type": "execute_result"
    }
   ],
   "source": [
    "str(a) #we are trying to change the type of 'a' to string --- typecasting-converting one type to other type"
   ]
  },
  {
   "cell_type": "markdown",
   "id": "c55fff66-873f-4890-88d8-e6a5c6e5c54a",
   "metadata": {},
   "source": [
    "##### String concatenation:"
   ]
  },
  {
   "cell_type": "code",
   "execution_count": 111,
   "id": "76bcf8ee-03be-43fd-8161-ee044ae928de",
   "metadata": {},
   "outputs": [
    {
     "data": {
      "text/plain": [
       "'krish10'"
      ]
     },
     "execution_count": 111,
     "metadata": {},
     "output_type": "execute_result"
    }
   ],
   "source": [
    "s1+str(a) #string concatenation"
   ]
  },
  {
   "cell_type": "code",
   "execution_count": 112,
   "id": "347e5dd5-bf87-406d-8294-825d71461d8e",
   "metadata": {},
   "outputs": [
    {
     "data": {
      "text/plain": [
       "'krish 10'"
      ]
     },
     "execution_count": 112,
     "metadata": {},
     "output_type": "execute_result"
    }
   ],
   "source": [
    "s1+' '+str(a)"
   ]
  },
  {
   "cell_type": "code",
   "execution_count": 113,
   "id": "9fda5eb7-041b-4403-b362-d198b1c8027c",
   "metadata": {},
   "outputs": [],
   "source": [
    "b=str(a)"
   ]
  },
  {
   "cell_type": "code",
   "execution_count": 114,
   "id": "3734dad7-544f-45bc-a7ad-2eb024458bc5",
   "metadata": {},
   "outputs": [
    {
     "data": {
      "text/plain": [
       "'10'"
      ]
     },
     "execution_count": 114,
     "metadata": {},
     "output_type": "execute_result"
    }
   ],
   "source": [
    "b"
   ]
  },
  {
   "cell_type": "code",
   "execution_count": 121,
   "id": "3ee9c254-df1f-4619-bc06-5076b541b5d1",
   "metadata": {},
   "outputs": [
    {
     "data": {
      "text/plain": [
       "10"
      ]
     },
     "execution_count": 121,
     "metadata": {},
     "output_type": "execute_result"
    }
   ],
   "source": [
    "int(b) #this is possible because we have a numeric value as a string, only then we can convert it to int type"
   ]
  },
  {
   "cell_type": "code",
   "execution_count": 116,
   "id": "9c68dcf7-1870-43b9-898a-ea105701b452",
   "metadata": {},
   "outputs": [],
   "source": [
    "s='krish'"
   ]
  },
  {
   "cell_type": "code",
   "execution_count": 118,
   "id": "508b540d-58ac-4658-8d18-08d18c79ee83",
   "metadata": {},
   "outputs": [
    {
     "ename": "ValueError",
     "evalue": "invalid literal for int() with base 10: 'krish'",
     "output_type": "error",
     "traceback": [
      "\u001b[0;31m---------------------------------------------------------------------------\u001b[0m",
      "\u001b[0;31mValueError\u001b[0m                                Traceback (most recent call last)",
      "Cell \u001b[0;32mIn[118], line 1\u001b[0m\n\u001b[0;32m----> 1\u001b[0m \u001b[38;5;28;43mint\u001b[39;49m\u001b[43m(\u001b[49m\u001b[43ms\u001b[49m\u001b[43m)\u001b[49m\n",
      "\u001b[0;31mValueError\u001b[0m: invalid literal for int() with base 10: 'krish'"
     ]
    }
   ],
   "source": [
    "int(s)"
   ]
  },
  {
   "cell_type": "markdown",
   "id": "a51d7c7f-81f7-4502-a20f-9c208644ee7e",
   "metadata": {},
   "source": [
    "-----------------"
   ]
  },
  {
   "cell_type": "markdown",
   "id": "f951e6e8-95ed-4150-bb76-02974153300e",
   "metadata": {
    "tags": []
   },
   "source": [
    "##### User Inputs:"
   ]
  },
  {
   "cell_type": "code",
   "execution_count": 133,
   "id": "c0b4ffa3-597f-4742-bebb-61d55f3bd256",
   "metadata": {},
   "outputs": [
    {
     "name": "stdin",
     "output_type": "stream",
     "text": [
      " test\n"
     ]
    }
   ],
   "source": [
    "#input() --- asks for the input --- Whatever value we enter, input always considers it as string type\n",
    "a=input()"
   ]
  },
  {
   "cell_type": "code",
   "execution_count": 127,
   "id": "78f6168e-3e29-47b8-8c06-74ad22d74ba9",
   "metadata": {},
   "outputs": [
    {
     "name": "stdin",
     "output_type": "stream",
     "text": [
      "enter your input here:  25\n"
     ]
    }
   ],
   "source": [
    "b=input('enter your input here: ')"
   ]
  },
  {
   "cell_type": "code",
   "execution_count": 128,
   "id": "3fc78478-033e-413c-ba1b-a417fd73d465",
   "metadata": {},
   "outputs": [
    {
     "data": {
      "text/plain": [
       "'25'"
      ]
     },
     "execution_count": 128,
     "metadata": {},
     "output_type": "execute_result"
    }
   ],
   "source": [
    "b"
   ]
  },
  {
   "cell_type": "code",
   "execution_count": 129,
   "id": "6ede6e98-7bc9-4da5-be5d-ac76bcc728c5",
   "metadata": {},
   "outputs": [
    {
     "data": {
      "text/plain": [
       "str"
      ]
     },
     "execution_count": 129,
     "metadata": {},
     "output_type": "execute_result"
    }
   ],
   "source": [
    "type(b)"
   ]
  },
  {
   "cell_type": "code",
   "execution_count": 131,
   "id": "48314493-063f-479f-a2c8-562c192a34bf",
   "metadata": {},
   "outputs": [
    {
     "name": "stdin",
     "output_type": "stream",
     "text": [
      "enter your input here:  True\n"
     ]
    }
   ],
   "source": [
    "b=input('enter your input here: ')"
   ]
  },
  {
   "cell_type": "code",
   "execution_count": 132,
   "id": "4cbf1633-5dfa-459d-b9d5-ace6022442d3",
   "metadata": {},
   "outputs": [
    {
     "data": {
      "text/plain": [
       "str"
      ]
     },
     "execution_count": 132,
     "metadata": {},
     "output_type": "execute_result"
    }
   ],
   "source": [
    "type(b)"
   ]
  },
  {
   "cell_type": "code",
   "execution_count": 139,
   "id": "4162a506-c166-4025-afe1-0370444dc0a5",
   "metadata": {},
   "outputs": [
    {
     "name": "stdin",
     "output_type": "stream",
     "text": [
      "enter your input here:  56\n"
     ]
    }
   ],
   "source": [
    "c=int(input('enter your input here: ')) #typecasting"
   ]
  },
  {
   "cell_type": "code",
   "execution_count": 140,
   "id": "7ff99f11-b2a7-49ed-b7c2-17f9eb24fa3c",
   "metadata": {},
   "outputs": [
    {
     "data": {
      "text/plain": [
       "int"
      ]
     },
     "execution_count": 140,
     "metadata": {},
     "output_type": "execute_result"
    }
   ],
   "source": [
    "type(c)"
   ]
  },
  {
   "cell_type": "code",
   "execution_count": 141,
   "id": "ccf5f977-f657-4332-bd2e-d0211404a73d",
   "metadata": {},
   "outputs": [
    {
     "name": "stdin",
     "output_type": "stream",
     "text": [
      "enter your input here:  True\n"
     ]
    }
   ],
   "source": [
    "c=bool(input('enter your input here: ')) #typecasting"
   ]
  },
  {
   "cell_type": "code",
   "execution_count": 142,
   "id": "655818f2-5c2f-4999-9a01-c42e68201c57",
   "metadata": {},
   "outputs": [
    {
     "data": {
      "text/plain": [
       "bool"
      ]
     },
     "execution_count": 142,
     "metadata": {},
     "output_type": "execute_result"
    }
   ],
   "source": [
    "type(c)"
   ]
  },
  {
   "cell_type": "code",
   "execution_count": 143,
   "id": "472417c6-4691-4a4f-8f27-ea37f6f753e9",
   "metadata": {},
   "outputs": [
    {
     "name": "stdin",
     "output_type": "stream",
     "text": [
      "enter your input here:  25\n"
     ]
    }
   ],
   "source": [
    "c=float(input('enter your input here: ')) #typecasting"
   ]
  },
  {
   "cell_type": "code",
   "execution_count": 144,
   "id": "804bbd23-c07b-46fd-b45f-6a4b62bee604",
   "metadata": {},
   "outputs": [
    {
     "data": {
      "text/plain": [
       "25.0"
      ]
     },
     "execution_count": 144,
     "metadata": {},
     "output_type": "execute_result"
    }
   ],
   "source": [
    "c"
   ]
  },
  {
   "cell_type": "code",
   "execution_count": 145,
   "id": "1930c0af-982f-40a1-bcef-644fde0bc2bb",
   "metadata": {},
   "outputs": [
    {
     "data": {
      "text/plain": [
       "float"
      ]
     },
     "execution_count": 145,
     "metadata": {},
     "output_type": "execute_result"
    }
   ],
   "source": [
    "type(c)"
   ]
  },
  {
   "cell_type": "markdown",
   "id": "ba336073-4012-41ab-a2d9-9aefc9557ee7",
   "metadata": {},
   "source": [
    "##### Strings_Indexing-Slicing:"
   ]
  },
  {
   "cell_type": "code",
   "execution_count": 146,
   "id": "12105085-41f2-46ee-bc04-d15e20cd8022",
   "metadata": {},
   "outputs": [],
   "source": [
    "s='krishna'"
   ]
  },
  {
   "cell_type": "code",
   "execution_count": 147,
   "id": "d8b828c3-b5b3-473d-b09a-7037676a943e",
   "metadata": {},
   "outputs": [
    {
     "data": {
      "text/plain": [
       "'krishna'"
      ]
     },
     "execution_count": 147,
     "metadata": {},
     "output_type": "execute_result"
    }
   ],
   "source": [
    "s"
   ]
  },
  {
   "cell_type": "code",
   "execution_count": 148,
   "id": "8579e0e3-8400-4629-8c94-c63aee004687",
   "metadata": {},
   "outputs": [
    {
     "data": {
      "text/plain": [
       "'k'"
      ]
     },
     "execution_count": 148,
     "metadata": {},
     "output_type": "execute_result"
    }
   ],
   "source": [
    "s[0]"
   ]
  },
  {
   "cell_type": "code",
   "execution_count": 149,
   "id": "1e72b179-0031-4243-9eee-cc50ee55dcc9",
   "metadata": {},
   "outputs": [
    {
     "data": {
      "text/plain": [
       "'r'"
      ]
     },
     "execution_count": 149,
     "metadata": {},
     "output_type": "execute_result"
    }
   ],
   "source": [
    "s[1]"
   ]
  },
  {
   "cell_type": "code",
   "execution_count": 150,
   "id": "241c11fe-a2de-49fb-9fdf-e330d05bc60c",
   "metadata": {},
   "outputs": [
    {
     "ename": "IndexError",
     "evalue": "string index out of range",
     "output_type": "error",
     "traceback": [
      "\u001b[0;31m---------------------------------------------------------------------------\u001b[0m",
      "\u001b[0;31mIndexError\u001b[0m                                Traceback (most recent call last)",
      "Cell \u001b[0;32mIn[150], line 1\u001b[0m\n\u001b[0;32m----> 1\u001b[0m \u001b[43ms\u001b[49m\u001b[43m[\u001b[49m\u001b[38;5;241;43m100\u001b[39;49m\u001b[43m]\u001b[49m\n",
      "\u001b[0;31mIndexError\u001b[0m: string index out of range"
     ]
    }
   ],
   "source": [
    "s[100] #error because our string doesn't have that range/index"
   ]
  },
  {
   "cell_type": "code",
   "execution_count": 152,
   "id": "d3f02773-1cfb-41d7-91e9-a28d38d50e59",
   "metadata": {},
   "outputs": [
    {
     "data": {
      "text/plain": [
       "'a'"
      ]
     },
     "execution_count": 152,
     "metadata": {},
     "output_type": "execute_result"
    }
   ],
   "source": [
    "s[-1] #value in the last index"
   ]
  },
  {
   "cell_type": "code",
   "execution_count": 153,
   "id": "45f63735-8312-4bf4-bf3c-a5ba31c29f9c",
   "metadata": {},
   "outputs": [],
   "source": [
    "s1='pwskills'"
   ]
  },
  {
   "cell_type": "code",
   "execution_count": 154,
   "id": "ff75e47f-cf6f-4b50-9d9d-4ef789f1b25f",
   "metadata": {},
   "outputs": [
    {
     "data": {
      "text/plain": [
       "'l'"
      ]
     },
     "execution_count": 154,
     "metadata": {},
     "output_type": "execute_result"
    }
   ],
   "source": [
    "s1[5]"
   ]
  },
  {
   "cell_type": "code",
   "execution_count": 156,
   "id": "daec1b01-9c59-4015-9204-18ef1accc59d",
   "metadata": {},
   "outputs": [
    {
     "data": {
      "text/plain": [
       "'pw'"
      ]
     },
     "execution_count": 156,
     "metadata": {},
     "output_type": "execute_result"
    }
   ],
   "source": [
    "s1[0:2] #start:stop --- in the result we get start to stop-1"
   ]
  },
  {
   "cell_type": "code",
   "execution_count": 157,
   "id": "80dfcb4f-90c5-490e-b407-57b1a8832d2a",
   "metadata": {},
   "outputs": [
    {
     "data": {
      "text/plain": [
       "'skill'"
      ]
     },
     "execution_count": 157,
     "metadata": {},
     "output_type": "execute_result"
    }
   ],
   "source": [
    "s1[2:7]"
   ]
  },
  {
   "cell_type": "code",
   "execution_count": 174,
   "id": "2236b660-dbcc-4dc7-a597-f849ece2415f",
   "metadata": {},
   "outputs": [
    {
     "data": {
      "text/plain": [
       "'skills'"
      ]
     },
     "execution_count": 174,
     "metadata": {},
     "output_type": "execute_result"
    }
   ],
   "source": [
    "s1[2:80] #here we can give the stop index as higher index but we won't get error, we will get the data till the last available index"
   ]
  },
  {
   "cell_type": "code",
   "execution_count": 160,
   "id": "83883619-ec1e-4991-a239-05f6ce9d67c5",
   "metadata": {},
   "outputs": [
    {
     "data": {
      "text/plain": [
       "'skills'"
      ]
     },
     "execution_count": 160,
     "metadata": {},
     "output_type": "execute_result"
    }
   ],
   "source": [
    "s1[2:]"
   ]
  },
  {
   "cell_type": "code",
   "execution_count": 164,
   "id": "75dde059-30d9-494d-945f-8fa829d4fda0",
   "metadata": {},
   "outputs": [
    {
     "data": {
      "text/plain": [
       "'pwskills'"
      ]
     },
     "execution_count": 164,
     "metadata": {},
     "output_type": "execute_result"
    }
   ],
   "source": [
    "s1[0:8:1] #start:stop:step, default step is 1"
   ]
  },
  {
   "cell_type": "code",
   "execution_count": 165,
   "id": "ebd87f88-5618-4942-8586-a25438a93e0e",
   "metadata": {},
   "outputs": [
    {
     "data": {
      "text/plain": [
       "'psil'"
      ]
     },
     "execution_count": 165,
     "metadata": {},
     "output_type": "execute_result"
    }
   ],
   "source": [
    "s1[0:8:2] #start:stop:step"
   ]
  },
  {
   "cell_type": "code",
   "execution_count": 167,
   "id": "00e0efd1-c8d1-4809-9be4-f12fe0769e7e",
   "metadata": {},
   "outputs": [
    {
     "data": {
      "text/plain": [
       "'pwskills'"
      ]
     },
     "execution_count": 167,
     "metadata": {},
     "output_type": "execute_result"
    }
   ],
   "source": [
    "s1"
   ]
  },
  {
   "cell_type": "code",
   "execution_count": 172,
   "id": "6fe6503d-6c1c-4e13-86af-43243727741e",
   "metadata": {},
   "outputs": [
    {
     "data": {
      "text/plain": [
       "''"
      ]
     },
     "execution_count": 172,
     "metadata": {},
     "output_type": "execute_result"
    }
   ],
   "source": [
    "s1[7:4] #here bydefault, step=1, forward indexing"
   ]
  },
  {
   "cell_type": "code",
   "execution_count": 173,
   "id": "6ae9c389-41b7-4b37-8f4f-bbd2bc300410",
   "metadata": {},
   "outputs": [
    {
     "data": {
      "text/plain": [
       "'sll'"
      ]
     },
     "execution_count": 173,
     "metadata": {},
     "output_type": "execute_result"
    }
   ],
   "source": [
    "s1[7:4:-1] #step=-1 means it searches backward, backward indexing"
   ]
  },
  {
   "cell_type": "code",
   "execution_count": 178,
   "id": "b80cd37e-02a8-4105-854c-9b3cf1c3589c",
   "metadata": {},
   "outputs": [
    {
     "data": {
      "text/plain": [
       "'sll'"
      ]
     },
     "execution_count": 178,
     "metadata": {},
     "output_type": "execute_result"
    }
   ],
   "source": [
    "s1[-1:-4:-1] #when the step is negative we get the result as start to stop+1"
   ]
  },
  {
   "cell_type": "code",
   "execution_count": 177,
   "id": "b9dc2542-97c8-4bed-8cba-a9f185a9b30a",
   "metadata": {},
   "outputs": [
    {
     "data": {
      "text/plain": [
       "'slliksw'"
      ]
     },
     "execution_count": 177,
     "metadata": {},
     "output_type": "execute_result"
    }
   ],
   "source": [
    "s1[7:0:-1]"
   ]
  },
  {
   "cell_type": "code",
   "execution_count": 179,
   "id": "985fb6ef-27df-4839-b343-de85e96fa7a1",
   "metadata": {},
   "outputs": [
    {
     "data": {
      "text/plain": [
       "'sllikswp'"
      ]
     },
     "execution_count": 179,
     "metadata": {},
     "output_type": "execute_result"
    }
   ],
   "source": [
    "s1[7:-9:-1]"
   ]
  },
  {
   "cell_type": "code",
   "execution_count": 183,
   "id": "3ebddec5-bed0-4487-a910-989e454f15aa",
   "metadata": {},
   "outputs": [
    {
     "data": {
      "text/plain": [
       "'sllikswp'"
      ]
     },
     "execution_count": 183,
     "metadata": {},
     "output_type": "execute_result"
    }
   ],
   "source": [
    "s1[7:-100:-1]"
   ]
  },
  {
   "cell_type": "code",
   "execution_count": 180,
   "id": "f7dbe587-915c-4f65-9717-5636ba3c167b",
   "metadata": {},
   "outputs": [
    {
     "data": {
      "text/plain": [
       "'sllikswp'"
      ]
     },
     "execution_count": 180,
     "metadata": {},
     "output_type": "execute_result"
    }
   ],
   "source": [
    "s1[7::-1]"
   ]
  },
  {
   "cell_type": "code",
   "execution_count": 182,
   "id": "85b3dcf5-7dca-4005-8ce0-8cac250b4c6c",
   "metadata": {},
   "outputs": [
    {
     "data": {
      "text/plain": [
       "'sllikswp'"
      ]
     },
     "execution_count": 182,
     "metadata": {},
     "output_type": "execute_result"
    }
   ],
   "source": [
    "s1[::-1] #when we leave the start and stop as blank, the system will automatically consider those values"
   ]
  },
  {
   "cell_type": "markdown",
   "id": "2f86cd11-a1fc-4d8c-8947-0f76026ef912",
   "metadata": {},
   "source": [
    "----------------"
   ]
  },
  {
   "cell_type": "markdown",
   "id": "97a60946-fe0c-4ce3-90c4-79ffa4c381f7",
   "metadata": {},
   "source": [
    "##### Strings-Immutable:"
   ]
  },
  {
   "cell_type": "code",
   "execution_count": 188,
   "id": "5dc38607-bfc2-4516-a22e-53da7eb0aeee",
   "metadata": {},
   "outputs": [],
   "source": [
    "a=10"
   ]
  },
  {
   "cell_type": "code",
   "execution_count": 189,
   "id": "04a1fed1-4156-44f9-84a6-4cdd41acbd41",
   "metadata": {},
   "outputs": [],
   "source": [
    "a=15"
   ]
  },
  {
   "cell_type": "code",
   "execution_count": 190,
   "id": "a5663064-bef0-47a6-b5c2-a086395c105c",
   "metadata": {},
   "outputs": [
    {
     "data": {
      "text/plain": [
       "15"
      ]
     },
     "execution_count": 190,
     "metadata": {},
     "output_type": "execute_result"
    }
   ],
   "source": [
    "a"
   ]
  },
  {
   "cell_type": "code",
   "execution_count": 193,
   "id": "98e3d956-5dfd-4b60-83bb-c80fd04bac9e",
   "metadata": {},
   "outputs": [
    {
     "data": {
      "text/plain": [
       "'awskills'"
      ]
     },
     "execution_count": 193,
     "metadata": {},
     "output_type": "execute_result"
    }
   ],
   "source": [
    "s1"
   ]
  },
  {
   "cell_type": "code",
   "execution_count": 194,
   "id": "efca8b8a-f860-4f1c-8537-a1f99f7415e8",
   "metadata": {},
   "outputs": [
    {
     "data": {
      "text/plain": [
       "'a'"
      ]
     },
     "execution_count": 194,
     "metadata": {},
     "output_type": "execute_result"
    }
   ],
   "source": [
    "s1[0]"
   ]
  },
  {
   "cell_type": "code",
   "execution_count": 195,
   "id": "8c78d5c5-32ad-4859-bed9-430df8fbfb4d",
   "metadata": {},
   "outputs": [
    {
     "ename": "TypeError",
     "evalue": "'str' object does not support item assignment",
     "output_type": "error",
     "traceback": [
      "\u001b[0;31m---------------------------------------------------------------------------\u001b[0m",
      "\u001b[0;31mTypeError\u001b[0m                                 Traceback (most recent call last)",
      "Cell \u001b[0;32mIn[195], line 1\u001b[0m\n\u001b[0;32m----> 1\u001b[0m \u001b[43ms1\u001b[49m\u001b[43m[\u001b[49m\u001b[38;5;241;43m0\u001b[39;49m\u001b[43m]\u001b[49m\u001b[38;5;241m=\u001b[39m\u001b[38;5;124m'\u001b[39m\u001b[38;5;124ma\u001b[39m\u001b[38;5;124m'\u001b[39m \u001b[38;5;66;03m#we get error because strings are immutable, cannot change\u001b[39;00m\n",
      "\u001b[0;31mTypeError\u001b[0m: 'str' object does not support item assignment"
     ]
    }
   ],
   "source": [
    "s1[0]='a' #we get error because strings are immutable, cannot change"
   ]
  },
  {
   "cell_type": "code",
   "execution_count": 196,
   "id": "c3075c58-ca1f-4bee-9b1b-4e99e05d6f7a",
   "metadata": {},
   "outputs": [
    {
     "data": {
      "text/plain": [
       "139749381140912"
      ]
     },
     "execution_count": 196,
     "metadata": {},
     "output_type": "execute_result"
    }
   ],
   "source": [
    "id(s)"
   ]
  },
  {
   "cell_type": "code",
   "execution_count": 197,
   "id": "0c4e131d-993a-4a4a-a7bc-966858b0d9fd",
   "metadata": {},
   "outputs": [],
   "source": [
    "s1='awskills'"
   ]
  },
  {
   "cell_type": "code",
   "execution_count": 198,
   "id": "9e44bd97-a977-456e-a8ea-f676ce0b9a1b",
   "metadata": {},
   "outputs": [
    {
     "data": {
      "text/plain": [
       "139749379772848"
      ]
     },
     "execution_count": 198,
     "metadata": {},
     "output_type": "execute_result"
    }
   ],
   "source": [
    "id(s1)"
   ]
  },
  {
   "cell_type": "markdown",
   "id": "cb686e5a-ce78-4c03-a680-26c8855446f7",
   "metadata": {},
   "source": [
    "> Immutability: unable to change the value at a particular index of the object/variable (in the same address).\n",
    ">>string is immutable, list is mutable."
   ]
  },
  {
   "cell_type": "markdown",
   "id": "fb85cf06-c6d2-4ba2-8b95-75f5cb4b8516",
   "metadata": {},
   "source": [
    "---------------------------"
   ]
  },
  {
   "cell_type": "markdown",
   "id": "4efe2158-cd47-4c9a-830a-f30b272440d6",
   "metadata": {},
   "source": [
    "# 20.08.2023"
   ]
  },
  {
   "cell_type": "markdown",
   "id": "4a49a4dd-a6a5-4c6d-9f19-dd95cda33cfe",
   "metadata": {},
   "source": [
    "### Lists:"
   ]
  },
  {
   "cell_type": "markdown",
   "id": "6c90a1c4-6771-4485-9391-bf8cc1ca4fc7",
   "metadata": {},
   "source": [
    ">List is the collection of  heterogenous data - any type of data"
   ]
  },
  {
   "cell_type": "code",
   "execution_count": 1,
   "id": "8918e247-0bb8-481f-bb88-303c7c5b700a",
   "metadata": {},
   "outputs": [],
   "source": [
    "lst=[]"
   ]
  },
  {
   "cell_type": "code",
   "execution_count": 2,
   "id": "d1265a3c-47fd-4feb-a3a7-2475229d5621",
   "metadata": {},
   "outputs": [
    {
     "data": {
      "text/plain": [
       "list"
      ]
     },
     "execution_count": 2,
     "metadata": {},
     "output_type": "execute_result"
    }
   ],
   "source": [
    "type(lst)"
   ]
  },
  {
   "cell_type": "code",
   "execution_count": 3,
   "id": "7a59d995-aabd-4577-bfff-3a85dad379b5",
   "metadata": {},
   "outputs": [],
   "source": [
    "l1=[1,2,3,4,5, 'krish', 3+5j, 12.25, True, [5,6]]"
   ]
  },
  {
   "cell_type": "code",
   "execution_count": 4,
   "id": "d86f8bcf-4b2e-4f34-bac3-9d957cddda6a",
   "metadata": {},
   "outputs": [
    {
     "data": {
      "text/plain": [
       "[1, 2, 3, 4, 5, 'krish', (3+5j), 12.25, True, [5, 6]]"
      ]
     },
     "execution_count": 4,
     "metadata": {},
     "output_type": "execute_result"
    }
   ],
   "source": [
    "l1"
   ]
  },
  {
   "cell_type": "code",
   "execution_count": 5,
   "id": "d9b7bece-ab8c-4aba-961e-1012bda81587",
   "metadata": {},
   "outputs": [
    {
     "data": {
      "text/plain": [
       "list"
      ]
     },
     "execution_count": 5,
     "metadata": {},
     "output_type": "execute_result"
    }
   ],
   "source": [
    "type(l1)"
   ]
  },
  {
   "cell_type": "markdown",
   "id": "5689e882-e9cf-46aa-a654-75b3f1519c88",
   "metadata": {},
   "source": [
    "##### Indexing-Slicing:"
   ]
  },
  {
   "cell_type": "code",
   "execution_count": 7,
   "id": "23fa6d02-f58b-447d-aeeb-a8dfcce300e6",
   "metadata": {},
   "outputs": [
    {
     "data": {
      "text/plain": [
       "[1, 2, 3, 4, 5, 'krish', (3+5j), 12.25, True, [5, 6]]"
      ]
     },
     "execution_count": 7,
     "metadata": {},
     "output_type": "execute_result"
    }
   ],
   "source": [
    "l1"
   ]
  },
  {
   "cell_type": "code",
   "execution_count": 8,
   "id": "76314f74-058d-4f7f-93ad-ff62a7212f00",
   "metadata": {},
   "outputs": [
    {
     "data": {
      "text/plain": [
       "'krish'"
      ]
     },
     "execution_count": 8,
     "metadata": {},
     "output_type": "execute_result"
    }
   ],
   "source": [
    "l1[5]"
   ]
  },
  {
   "cell_type": "code",
   "execution_count": 9,
   "id": "aa369dfd-8460-4115-8e94-ed917daafeac",
   "metadata": {},
   "outputs": [
    {
     "data": {
      "text/plain": [
       "[5, 6]"
      ]
     },
     "execution_count": 9,
     "metadata": {},
     "output_type": "execute_result"
    }
   ],
   "source": [
    "l1[-1]"
   ]
  },
  {
   "cell_type": "code",
   "execution_count": 10,
   "id": "4c5d50fb-8057-425e-b48a-b0dd2474e8d1",
   "metadata": {},
   "outputs": [
    {
     "data": {
      "text/plain": [
       "6"
      ]
     },
     "execution_count": 10,
     "metadata": {},
     "output_type": "execute_result"
    }
   ],
   "source": [
    "l1[-1][1]"
   ]
  },
  {
   "cell_type": "code",
   "execution_count": 11,
   "id": "62f613d0-4c4a-4396-92aa-667999f4630f",
   "metadata": {},
   "outputs": [
    {
     "data": {
      "text/plain": [
       "[1, 2, 3, 4, 5]"
      ]
     },
     "execution_count": 11,
     "metadata": {},
     "output_type": "execute_result"
    }
   ],
   "source": [
    "l1[0:5]"
   ]
  },
  {
   "cell_type": "code",
   "execution_count": 24,
   "id": "b624420f-9de9-4664-9e64-37d0f6f385db",
   "metadata": {},
   "outputs": [],
   "source": [
    "l2=[3,4,5,'pwskills','krish']"
   ]
  },
  {
   "cell_type": "code",
   "execution_count": 13,
   "id": "2a14b390-841b-4f83-942c-8caae02b7c08",
   "metadata": {},
   "outputs": [
    {
     "data": {
      "text/plain": [
       "[3, 4, 5, 'pwskills', 'krish']"
      ]
     },
     "execution_count": 13,
     "metadata": {},
     "output_type": "execute_result"
    }
   ],
   "source": [
    "l2"
   ]
  },
  {
   "cell_type": "markdown",
   "id": "29735e4d-3d66-45bb-a765-31ef601a1e06",
   "metadata": {},
   "source": [
    "##### list concatenation:"
   ]
  },
  {
   "cell_type": "code",
   "execution_count": 15,
   "id": "77ab0d0e-5015-4654-b6fa-6ed9a55a9764",
   "metadata": {},
   "outputs": [
    {
     "data": {
      "text/plain": [
       "[1,\n",
       " 2,\n",
       " 3,\n",
       " 4,\n",
       " 5,\n",
       " 'krish',\n",
       " (3+5j),\n",
       " 12.25,\n",
       " True,\n",
       " [5, 6],\n",
       " 3,\n",
       " 4,\n",
       " 5,\n",
       " 'pwskills',\n",
       " 'krish']"
      ]
     },
     "execution_count": 15,
     "metadata": {},
     "output_type": "execute_result"
    }
   ],
   "source": [
    "l1+l2 #list concatenation"
   ]
  },
  {
   "cell_type": "code",
   "execution_count": 16,
   "id": "20d1f671-fc7c-428b-b17e-3d8a5bdc58f1",
   "metadata": {},
   "outputs": [
    {
     "ename": "TypeError",
     "evalue": "can only concatenate list (not \"str\") to list",
     "output_type": "error",
     "traceback": [
      "\u001b[0;31m---------------------------------------------------------------------------\u001b[0m",
      "\u001b[0;31mTypeError\u001b[0m                                 Traceback (most recent call last)",
      "Cell \u001b[0;32mIn[16], line 1\u001b[0m\n\u001b[0;32m----> 1\u001b[0m \u001b[43ml2\u001b[49m\u001b[38;5;241;43m+\u001b[39;49m\u001b[38;5;124;43m'\u001b[39;49m\u001b[38;5;124;43mok\u001b[39;49m\u001b[38;5;124;43m'\u001b[39;49m\n",
      "\u001b[0;31mTypeError\u001b[0m: can only concatenate list (not \"str\") to list"
     ]
    }
   ],
   "source": [
    "l2+'ok'"
   ]
  },
  {
   "cell_type": "code",
   "execution_count": 17,
   "id": "75fc04d2-2d01-46ec-8f0a-e581ebc1db51",
   "metadata": {},
   "outputs": [
    {
     "data": {
      "text/plain": [
       "['h', 'e', 'l', 'l', 'o']"
      ]
     },
     "execution_count": 17,
     "metadata": {},
     "output_type": "execute_result"
    }
   ],
   "source": [
    "list('hello')"
   ]
  },
  {
   "cell_type": "code",
   "execution_count": 18,
   "id": "4beab61f-3238-496c-9fb8-fee1b8e0c6b4",
   "metadata": {},
   "outputs": [
    {
     "ename": "TypeError",
     "evalue": "'int' object is not iterable",
     "output_type": "error",
     "traceback": [
      "\u001b[0;31m---------------------------------------------------------------------------\u001b[0m",
      "\u001b[0;31mTypeError\u001b[0m                                 Traceback (most recent call last)",
      "Cell \u001b[0;32mIn[18], line 1\u001b[0m\n\u001b[0;32m----> 1\u001b[0m \u001b[38;5;28;43mlist\u001b[39;49m\u001b[43m(\u001b[49m\u001b[38;5;241;43m452\u001b[39;49m\u001b[43m)\u001b[49m\n",
      "\u001b[0;31mTypeError\u001b[0m: 'int' object is not iterable"
     ]
    }
   ],
   "source": [
    "list(452)"
   ]
  },
  {
   "cell_type": "code",
   "execution_count": 19,
   "id": "1476284e-c46e-40ec-b6ad-64e8d8b70ad4",
   "metadata": {},
   "outputs": [
    {
     "data": {
      "text/plain": [
       "[3, 4, 5, 'pwskills', 'krish', 3, 4, 5, 'pwskills', 'krish']"
      ]
     },
     "execution_count": 19,
     "metadata": {},
     "output_type": "execute_result"
    }
   ],
   "source": [
    "l2*2"
   ]
  },
  {
   "cell_type": "code",
   "execution_count": 25,
   "id": "a7862c8b-795c-4696-9675-e0f3cc373740",
   "metadata": {},
   "outputs": [
    {
     "data": {
      "text/plain": [
       "[3, 4, 5, 'pwskills', 'krish']"
      ]
     },
     "execution_count": 25,
     "metadata": {},
     "output_type": "execute_result"
    }
   ],
   "source": [
    "l2"
   ]
  },
  {
   "cell_type": "code",
   "execution_count": 26,
   "id": "2fd915e0-9023-4bf5-8bbe-caf2a933e858",
   "metadata": {},
   "outputs": [
    {
     "data": {
      "text/plain": [
       "139621805636736"
      ]
     },
     "execution_count": 26,
     "metadata": {},
     "output_type": "execute_result"
    }
   ],
   "source": [
    "id(l2)"
   ]
  },
  {
   "cell_type": "markdown",
   "id": "aff7e882-527f-4779-b0a4-15a2b8526631",
   "metadata": {},
   "source": [
    "##### Lists-Mutable:"
   ]
  },
  {
   "cell_type": "markdown",
   "id": "88aefe06-4006-4035-bcf1-59dcd332ae87",
   "metadata": {},
   "source": [
    ">Mutability: able to change the value at a particular index of the object/variable (in the same address)."
   ]
  },
  {
   "cell_type": "code",
   "execution_count": 27,
   "id": "b2e83df0-eef8-4aa6-b93c-fec32501adb0",
   "metadata": {},
   "outputs": [
    {
     "data": {
      "text/plain": [
       "3"
      ]
     },
     "execution_count": 27,
     "metadata": {},
     "output_type": "execute_result"
    }
   ],
   "source": [
    "l2[0]"
   ]
  },
  {
   "cell_type": "code",
   "execution_count": 28,
   "id": "b0c9b493-b27c-480b-9f41-ca3b37dd606a",
   "metadata": {},
   "outputs": [],
   "source": [
    "l2[0]=200"
   ]
  },
  {
   "cell_type": "code",
   "execution_count": 29,
   "id": "756cafb1-4d02-4992-ae48-76dab48b14da",
   "metadata": {},
   "outputs": [
    {
     "data": {
      "text/plain": [
       "[200, 4, 5, 'pwskills', 'krish']"
      ]
     },
     "execution_count": 29,
     "metadata": {},
     "output_type": "execute_result"
    }
   ],
   "source": [
    "l2"
   ]
  },
  {
   "cell_type": "code",
   "execution_count": 30,
   "id": "4f5af88b-3b2d-4173-b86a-bf06b6ff614c",
   "metadata": {},
   "outputs": [
    {
     "data": {
      "text/plain": [
       "139621805636736"
      ]
     },
     "execution_count": 30,
     "metadata": {},
     "output_type": "execute_result"
    }
   ],
   "source": [
    "id(l2)"
   ]
  },
  {
   "cell_type": "markdown",
   "id": "84a4c5e5-1620-4126-983a-e4e783adbe0a",
   "metadata": {},
   "source": [
    "### Tuples:"
   ]
  },
  {
   "cell_type": "markdown",
   "id": "827f7287-28c6-4fed-b567-04da8d42fda5",
   "metadata": {},
   "source": [
    ">Tuple is the collection of  heterogenous data but they are immutable\n",
    "\n",
    ">>tuples are immutable - they doesn't support item assignment"
   ]
  },
  {
   "cell_type": "code",
   "execution_count": 32,
   "id": "9bd4981c-c992-4876-a773-675917179d4f",
   "metadata": {},
   "outputs": [],
   "source": [
    "t=(1,2,3,\"krish\",4+6j,True)"
   ]
  },
  {
   "cell_type": "code",
   "execution_count": 33,
   "id": "980dfec7-5ad3-4f62-a67f-70c6228ba936",
   "metadata": {},
   "outputs": [
    {
     "data": {
      "text/plain": [
       "tuple"
      ]
     },
     "execution_count": 33,
     "metadata": {},
     "output_type": "execute_result"
    }
   ],
   "source": [
    "type(t)"
   ]
  },
  {
   "cell_type": "markdown",
   "id": "674de7ee-5bfa-4e57-b3ce-f76703175e12",
   "metadata": {},
   "source": [
    "##### Indexing-Slicing:"
   ]
  },
  {
   "cell_type": "code",
   "execution_count": 37,
   "id": "44de2f7b-6369-4b9b-b843-0558ae478199",
   "metadata": {},
   "outputs": [
    {
     "data": {
      "text/plain": [
       "1"
      ]
     },
     "execution_count": 37,
     "metadata": {},
     "output_type": "execute_result"
    }
   ],
   "source": [
    "t[0]"
   ]
  },
  {
   "cell_type": "code",
   "execution_count": 35,
   "id": "61e544d1-c89a-4103-ac8a-f8621bb1c9fd",
   "metadata": {},
   "outputs": [
    {
     "data": {
      "text/plain": [
       "True"
      ]
     },
     "execution_count": 35,
     "metadata": {},
     "output_type": "execute_result"
    }
   ],
   "source": [
    "t[-1]"
   ]
  },
  {
   "cell_type": "code",
   "execution_count": 36,
   "id": "8717e186-5f4d-4dc7-89df-74ed16bc2bdf",
   "metadata": {},
   "outputs": [
    {
     "data": {
      "text/plain": [
       "(True, (4+6j), 'krish', 3, 2, 1)"
      ]
     },
     "execution_count": 36,
     "metadata": {},
     "output_type": "execute_result"
    }
   ],
   "source": [
    "t[::-1]"
   ]
  },
  {
   "cell_type": "code",
   "execution_count": 34,
   "id": "95b3b54a-5052-45c2-b66d-be3cf75da109",
   "metadata": {},
   "outputs": [
    {
     "ename": "TypeError",
     "evalue": "'tuple' object does not support item assignment",
     "output_type": "error",
     "traceback": [
      "\u001b[0;31m---------------------------------------------------------------------------\u001b[0m",
      "\u001b[0;31mTypeError\u001b[0m                                 Traceback (most recent call last)",
      "Cell \u001b[0;32mIn[34], line 1\u001b[0m\n\u001b[0;32m----> 1\u001b[0m \u001b[43mt\u001b[49m\u001b[43m[\u001b[49m\u001b[38;5;241;43m0\u001b[39;49m\u001b[43m]\u001b[49m\u001b[38;5;241m=\u001b[39m\u001b[38;5;241m25\u001b[39m\n",
      "\u001b[0;31mTypeError\u001b[0m: 'tuple' object does not support item assignment"
     ]
    }
   ],
   "source": [
    "t[0]=25"
   ]
  },
  {
   "cell_type": "code",
   "execution_count": 38,
   "id": "a99b397c-7749-455a-aa0f-3a21aa1b6e19",
   "metadata": {},
   "outputs": [],
   "source": [
    "t1=(5,6,7,8,9)"
   ]
  },
  {
   "cell_type": "code",
   "execution_count": 39,
   "id": "7d849f6c-04dc-4154-83ba-ce36ac7fa07c",
   "metadata": {},
   "outputs": [
    {
     "data": {
      "text/plain": [
       "(5, 6, 7, 8, 9)"
      ]
     },
     "execution_count": 39,
     "metadata": {},
     "output_type": "execute_result"
    }
   ],
   "source": [
    "t1"
   ]
  },
  {
   "cell_type": "markdown",
   "id": "7106fbaf-f9c4-491d-8f3c-73841bb881ae",
   "metadata": {},
   "source": [
    "##### Tuple concatenation:"
   ]
  },
  {
   "cell_type": "code",
   "execution_count": 40,
   "id": "3474a455-e1c1-4c3f-85d7-d13c37c00644",
   "metadata": {},
   "outputs": [
    {
     "data": {
      "text/plain": [
       "(1, 2, 3, 'krish', (4+6j), True, 5, 6, 7, 8, 9)"
      ]
     },
     "execution_count": 40,
     "metadata": {},
     "output_type": "execute_result"
    }
   ],
   "source": [
    "t+t1"
   ]
  },
  {
   "cell_type": "code",
   "execution_count": 42,
   "id": "c1e6da84-b665-4d15-bce9-7e016385fadd",
   "metadata": {},
   "outputs": [
    {
     "data": {
      "text/plain": [
       "(5, 6, 7, 8, 9, 5, 6, 7, 8, 9)"
      ]
     },
     "execution_count": 42,
     "metadata": {},
     "output_type": "execute_result"
    }
   ],
   "source": [
    "t1*2"
   ]
  },
  {
   "cell_type": "code",
   "execution_count": 43,
   "id": "95f4f6d5-391d-4244-9b35-a37e67283e98",
   "metadata": {},
   "outputs": [
    {
     "data": {
      "text/plain": [
       "[1, 2, 3, 'krish', (4+6j), True]"
      ]
     },
     "execution_count": 43,
     "metadata": {},
     "output_type": "execute_result"
    }
   ],
   "source": [
    "list(t)"
   ]
  },
  {
   "cell_type": "code",
   "execution_count": 44,
   "id": "3e4e019e-c597-4ec7-9b5f-05bb5aa6ceac",
   "metadata": {},
   "outputs": [
    {
     "data": {
      "text/plain": [
       "(1, 2, 3, 'krish', (4+6j), True)"
      ]
     },
     "execution_count": 44,
     "metadata": {},
     "output_type": "execute_result"
    }
   ],
   "source": [
    "t"
   ]
  },
  {
   "cell_type": "code",
   "execution_count": 45,
   "id": "8837992d-acfe-4688-a023-a5cbeb3202be",
   "metadata": {},
   "outputs": [
    {
     "data": {
      "text/plain": [
       "6"
      ]
     },
     "execution_count": 45,
     "metadata": {},
     "output_type": "execute_result"
    }
   ],
   "source": [
    "len(t)"
   ]
  },
  {
   "cell_type": "code",
   "execution_count": 46,
   "id": "f2749372-9121-4c92-a476-07c492e12cab",
   "metadata": {},
   "outputs": [
    {
     "data": {
      "text/plain": [
       "5"
      ]
     },
     "execution_count": 46,
     "metadata": {},
     "output_type": "execute_result"
    }
   ],
   "source": [
    "len(\"krish\")"
   ]
  },
  {
   "cell_type": "code",
   "execution_count": 50,
   "id": "f94d55e6-5330-4248-b753-8a4a7ba32cad",
   "metadata": {},
   "outputs": [
    {
     "data": {
      "text/plain": [
       "10"
      ]
     },
     "execution_count": 50,
     "metadata": {},
     "output_type": "execute_result"
    }
   ],
   "source": [
    "len(l1)"
   ]
  },
  {
   "cell_type": "markdown",
   "id": "ed74c4e4-2257-410f-97a7-70eed2d6604d",
   "metadata": {},
   "source": [
    "### Sets:"
   ]
  },
  {
   "cell_type": "markdown",
   "id": "b7783bc4-ca16-4084-945c-a63c4234b355",
   "metadata": {},
   "source": [
    "Note:\n",
    "* Set is the collection of  heterogenous data - any type of data\n",
    "* removes the duplicate items and\n",
    "* the set is not subscriptable, it is neither immutable or mutable"
   ]
  },
  {
   "cell_type": "code",
   "execution_count": 51,
   "id": "223d563f-649b-4ec4-b7b7-41071481a861",
   "metadata": {},
   "outputs": [],
   "source": [
    "s={}"
   ]
  },
  {
   "cell_type": "code",
   "execution_count": 52,
   "id": "053396b1-d9f4-42d0-acdc-3d32551145fb",
   "metadata": {},
   "outputs": [
    {
     "data": {
      "text/plain": [
       "dict"
      ]
     },
     "execution_count": 52,
     "metadata": {},
     "output_type": "execute_result"
    }
   ],
   "source": [
    "type(s)"
   ]
  },
  {
   "cell_type": "code",
   "execution_count": 56,
   "id": "7c683fea-e9bc-4a19-bc59-d5b41c908d45",
   "metadata": {},
   "outputs": [],
   "source": [
    "s1={1,2,3,4,5,5}"
   ]
  },
  {
   "cell_type": "code",
   "execution_count": 54,
   "id": "89fa2fed-30d5-45e1-a2fb-8e7904672729",
   "metadata": {},
   "outputs": [
    {
     "data": {
      "text/plain": [
       "set"
      ]
     },
     "execution_count": 54,
     "metadata": {},
     "output_type": "execute_result"
    }
   ],
   "source": [
    "type(s1)"
   ]
  },
  {
   "cell_type": "markdown",
   "id": "a82b46c1-2156-4c3e-a24b-b5bbe760bb16",
   "metadata": {},
   "source": [
    ">Sets removes the duplicates or only considers the unique elements"
   ]
  },
  {
   "cell_type": "code",
   "execution_count": 57,
   "id": "3de0a3a0-b34e-4cd3-8022-c0c84e036304",
   "metadata": {},
   "outputs": [
    {
     "data": {
      "text/plain": [
       "{1, 2, 3, 4, 5}"
      ]
     },
     "execution_count": 57,
     "metadata": {},
     "output_type": "execute_result"
    }
   ],
   "source": [
    "s1"
   ]
  },
  {
   "cell_type": "code",
   "execution_count": 61,
   "id": "f3a107dc-6b76-4a4f-866c-01ae11ee83b6",
   "metadata": {},
   "outputs": [],
   "source": [
    "s2={'krish','krish',1,1,5,6,8,5,2,4,1,'Krish'}"
   ]
  },
  {
   "cell_type": "markdown",
   "id": "08324465-c63a-4504-8cb3-2ecd69dc1559",
   "metadata": {},
   "source": [
    ">Python is case sensitive language hence we got Krish, krish in the output"
   ]
  },
  {
   "cell_type": "markdown",
   "id": "5affad02-c911-4b2f-9081-97f7d0fad633",
   "metadata": {},
   "source": [
    "##### Typecasting:"
   ]
  },
  {
   "cell_type": "code",
   "execution_count": 63,
   "id": "1cf7d596-7873-4eeb-ad46-6ce00845d977",
   "metadata": {},
   "outputs": [
    {
     "data": {
      "text/plain": [
       "{1, 2, 4, 5, 6, 8, 'Krish', 'krish'}"
      ]
     },
     "execution_count": 63,
     "metadata": {},
     "output_type": "execute_result"
    }
   ],
   "source": [
    "s2 "
   ]
  },
  {
   "cell_type": "code",
   "execution_count": 64,
   "id": "6c821f00-d9f7-4ab5-818b-0046a89a6636",
   "metadata": {},
   "outputs": [
    {
     "data": {
      "text/plain": [
       "[1, 2, 'Krish', 4, 5, 6, 8, 'krish']"
      ]
     },
     "execution_count": 64,
     "metadata": {},
     "output_type": "execute_result"
    }
   ],
   "source": [
    "list(s2)"
   ]
  },
  {
   "cell_type": "code",
   "execution_count": 65,
   "id": "4fe6d3be-bd35-4738-bb83-ff816e70c89b",
   "metadata": {},
   "outputs": [
    {
     "data": {
      "text/plain": [
       "[1, 2, 3, 4, 5, 'krish', (3+5j), 12.25, True, [5, 6]]"
      ]
     },
     "execution_count": 65,
     "metadata": {},
     "output_type": "execute_result"
    }
   ],
   "source": [
    "l1"
   ]
  },
  {
   "cell_type": "code",
   "execution_count": 66,
   "id": "762f0c71-ee9c-4530-ad51-e71d81a41497",
   "metadata": {},
   "outputs": [
    {
     "ename": "TypeError",
     "evalue": "unhashable type: 'list'",
     "output_type": "error",
     "traceback": [
      "\u001b[0;31m---------------------------------------------------------------------------\u001b[0m",
      "\u001b[0;31mTypeError\u001b[0m                                 Traceback (most recent call last)",
      "Cell \u001b[0;32mIn[66], line 1\u001b[0m\n\u001b[0;32m----> 1\u001b[0m \u001b[38;5;28;43mset\u001b[39;49m\u001b[43m(\u001b[49m\u001b[43ml1\u001b[49m\u001b[43m)\u001b[49m\n",
      "\u001b[0;31mTypeError\u001b[0m: unhashable type: 'list'"
     ]
    }
   ],
   "source": [
    "set(l1)"
   ]
  },
  {
   "cell_type": "markdown",
   "id": "b3f60d92-ccab-4a23-8761-dbd6010ba6be",
   "metadata": {},
   "source": [
    ">We have nested list hence we cannot typecast it into set"
   ]
  },
  {
   "cell_type": "code",
   "execution_count": 67,
   "id": "c301ebd2-f192-47bb-90bb-c56d0eb3bc3a",
   "metadata": {},
   "outputs": [
    {
     "data": {
      "text/plain": [
       "[200, 4, 5, 'pwskills', 'krish']"
      ]
     },
     "execution_count": 67,
     "metadata": {},
     "output_type": "execute_result"
    }
   ],
   "source": [
    "l2"
   ]
  },
  {
   "cell_type": "code",
   "execution_count": 68,
   "id": "1454796f-73e3-408a-a9bc-1d91b586c8ea",
   "metadata": {},
   "outputs": [
    {
     "data": {
      "text/plain": [
       "{200, 4, 5, 'krish', 'pwskills'}"
      ]
     },
     "execution_count": 68,
     "metadata": {},
     "output_type": "execute_result"
    }
   ],
   "source": [
    "set(l2)"
   ]
  },
  {
   "cell_type": "code",
   "execution_count": 71,
   "id": "1e29c4e2-2b89-4fed-b83a-35befb37f7c9",
   "metadata": {},
   "outputs": [
    {
     "data": {
      "text/plain": [
       "(1, 2, 'Krish', 4, 5, 6, 8, 'krish')"
      ]
     },
     "execution_count": 71,
     "metadata": {},
     "output_type": "execute_result"
    }
   ],
   "source": [
    "tuple(s2)"
   ]
  },
  {
   "cell_type": "markdown",
   "id": "a964fdca-890f-43c3-91aa-f4a114609992",
   "metadata": {},
   "source": [
    "##### Indexing-Slicing:"
   ]
  },
  {
   "cell_type": "markdown",
   "id": "7d8f933b-3248-4920-a0cf-9fd229d66479",
   "metadata": {},
   "source": [
    ">Indexing is not available for sets, we can convert it to other datatype and then index/slice it"
   ]
  },
  {
   "cell_type": "code",
   "execution_count": 72,
   "id": "5526f9d6-fb56-4878-ad6c-ff25b364ff47",
   "metadata": {},
   "outputs": [
    {
     "data": {
      "text/plain": [
       "{1, 2, 4, 5, 6, 8, 'Krish', 'krish'}"
      ]
     },
     "execution_count": 72,
     "metadata": {},
     "output_type": "execute_result"
    }
   ],
   "source": [
    "s2"
   ]
  },
  {
   "cell_type": "code",
   "execution_count": 73,
   "id": "2f0cfed9-ffaf-4e25-a94f-cd3ff01b1c3b",
   "metadata": {},
   "outputs": [
    {
     "ename": "TypeError",
     "evalue": "'set' object is not subscriptable",
     "output_type": "error",
     "traceback": [
      "\u001b[0;31m---------------------------------------------------------------------------\u001b[0m",
      "\u001b[0;31mTypeError\u001b[0m                                 Traceback (most recent call last)",
      "Cell \u001b[0;32mIn[73], line 1\u001b[0m\n\u001b[0;32m----> 1\u001b[0m \u001b[43ms2\u001b[49m\u001b[43m[\u001b[49m\u001b[38;5;241;43m0\u001b[39;49m\u001b[43m]\u001b[49m\n",
      "\u001b[0;31mTypeError\u001b[0m: 'set' object is not subscriptable"
     ]
    }
   ],
   "source": [
    "s2[0]"
   ]
  },
  {
   "cell_type": "markdown",
   "id": "18cb732b-a87e-4cf7-a2c4-f92e587fb6e9",
   "metadata": {},
   "source": [
    ">>As we cannot index the set, the sets are neither immutable or mutable"
   ]
  },
  {
   "cell_type": "code",
   "execution_count": 77,
   "id": "8305767a-345e-4806-b80b-d4a564c54a3e",
   "metadata": {},
   "outputs": [
    {
     "data": {
      "text/plain": [
       "'krish'"
      ]
     },
     "execution_count": 77,
     "metadata": {},
     "output_type": "execute_result"
    }
   ],
   "source": [
    "list(s2)[-1]"
   ]
  },
  {
   "cell_type": "markdown",
   "id": "2d7eb29b-56c3-4942-b2c9-3822603a9a47",
   "metadata": {},
   "source": [
    "### Dictionaries:"
   ]
  },
  {
   "cell_type": "code",
   "execution_count": 78,
   "id": "163ef73c-5383-4d4e-814b-192ca269af9b",
   "metadata": {},
   "outputs": [],
   "source": [
    "d={}"
   ]
  },
  {
   "cell_type": "code",
   "execution_count": 79,
   "id": "a439bfca-fe52-4c2d-833d-895405aa9283",
   "metadata": {},
   "outputs": [
    {
     "data": {
      "text/plain": [
       "dict"
      ]
     },
     "execution_count": 79,
     "metadata": {},
     "output_type": "execute_result"
    }
   ],
   "source": [
    "type(d)"
   ]
  },
  {
   "cell_type": "code",
   "execution_count": 82,
   "id": "0789941d-65c1-49ad-a6c6-41167304d078",
   "metadata": {},
   "outputs": [],
   "source": [
    "d1={'name':'krish', \"sub\":['python','sql','ml','dl'], \"num\":465465}"
   ]
  },
  {
   "cell_type": "code",
   "execution_count": 84,
   "id": "1e0cfd56-8592-4ec8-b281-2a6cae802704",
   "metadata": {},
   "outputs": [
    {
     "data": {
      "text/plain": [
       "{'name': 'krish', 'sub': ['python', 'sql', 'ml', 'dl'], 'num': 465465}"
      ]
     },
     "execution_count": 84,
     "metadata": {},
     "output_type": "execute_result"
    }
   ],
   "source": [
    "d1"
   ]
  },
  {
   "cell_type": "markdown",
   "id": "e42375bb-1259-4c09-9969-4b8b640257ea",
   "metadata": {},
   "source": [
    ">Dictionaries have the named indexes - keys, key should always be unique"
   ]
  },
  {
   "cell_type": "code",
   "execution_count": 85,
   "id": "b4091a51-8e66-410e-a314-9a08daf6ea52",
   "metadata": {},
   "outputs": [],
   "source": [
    "d2={'name':\"krish\", \"name\":\"pwskills\"}"
   ]
  },
  {
   "cell_type": "code",
   "execution_count": 86,
   "id": "afcf4ba8-5f11-4a3d-8c4a-dac9cacbc854",
   "metadata": {},
   "outputs": [
    {
     "data": {
      "text/plain": [
       "{'name': 'pwskills'}"
      ]
     },
     "execution_count": 86,
     "metadata": {},
     "output_type": "execute_result"
    }
   ],
   "source": [
    "d2"
   ]
  },
  {
   "cell_type": "code",
   "execution_count": 88,
   "id": "a01542d0-3c24-411f-ac38-a595fec5db7f",
   "metadata": {},
   "outputs": [
    {
     "data": {
      "text/plain": [
       "dict"
      ]
     },
     "execution_count": 88,
     "metadata": {},
     "output_type": "execute_result"
    }
   ],
   "source": [
    "type(d2)"
   ]
  },
  {
   "cell_type": "code",
   "execution_count": 89,
   "id": "e0e0c2b2-4179-478b-a4ed-ec65101a4910",
   "metadata": {},
   "outputs": [],
   "source": [
    "d3={123:\"krish\"}"
   ]
  },
  {
   "cell_type": "code",
   "execution_count": 90,
   "id": "bf6a7ec5-23de-4070-83c7-b04b3ef059e4",
   "metadata": {},
   "outputs": [
    {
     "ename": "TypeError",
     "evalue": "unhashable type: 'list'",
     "output_type": "error",
     "traceback": [
      "\u001b[0;31m---------------------------------------------------------------------------\u001b[0m",
      "\u001b[0;31mTypeError\u001b[0m                                 Traceback (most recent call last)",
      "Cell \u001b[0;32mIn[90], line 1\u001b[0m\n\u001b[0;32m----> 1\u001b[0m d4\u001b[38;5;241m=\u001b[39m{[\u001b[38;5;241m1\u001b[39m,\u001b[38;5;241m2\u001b[39m]:\u001b[38;5;124m\"\u001b[39m\u001b[38;5;124mok\u001b[39m\u001b[38;5;124m\"\u001b[39m}\n",
      "\u001b[0;31mTypeError\u001b[0m: unhashable type: 'list'"
     ]
    }
   ],
   "source": [
    "d4={[1,2]:\"ok\"}"
   ]
  },
  {
   "cell_type": "code",
   "execution_count": 91,
   "id": "a1d7959c-c1f2-4f95-bbf2-f03272b335e5",
   "metadata": {},
   "outputs": [],
   "source": [
    "d4={(1,2):\"ok\"}"
   ]
  },
  {
   "cell_type": "code",
   "execution_count": 92,
   "id": "dda274f5-6fc3-4ce4-85d7-dfea68c28264",
   "metadata": {},
   "outputs": [
    {
     "ename": "TypeError",
     "evalue": "unhashable type: 'set'",
     "output_type": "error",
     "traceback": [
      "\u001b[0;31m---------------------------------------------------------------------------\u001b[0m",
      "\u001b[0;31mTypeError\u001b[0m                                 Traceback (most recent call last)",
      "Cell \u001b[0;32mIn[92], line 1\u001b[0m\n\u001b[0;32m----> 1\u001b[0m d4\u001b[38;5;241m=\u001b[39m{{\u001b[38;5;241m1\u001b[39m,\u001b[38;5;241m2\u001b[39m}:\u001b[38;5;124m\"\u001b[39m\u001b[38;5;124mok\u001b[39m\u001b[38;5;124m\"\u001b[39m}\n",
      "\u001b[0;31mTypeError\u001b[0m: unhashable type: 'set'"
     ]
    }
   ],
   "source": [
    "d4={{1,2}:\"ok\"}"
   ]
  },
  {
   "cell_type": "markdown",
   "id": "c79b6d6c-f4d8-41fe-8af1-23222a3a31ea",
   "metadata": {},
   "source": [
    "Note:\n",
    "* In a dictionary - list, set, special characters cannot be used as the keys\n",
    "* In a dictionary, Values can be anything"
   ]
  },
  {
   "cell_type": "code",
   "execution_count": 105,
   "id": "28e12d75-94cc-46b8-9e8a-84c7ce6fb81c",
   "metadata": {},
   "outputs": [],
   "source": [
    "d5={\"course\":['dsa','ds','webdev','cloud'],'mentor':('sudhanshu','krish','pal','sunny'), \n",
    "    'price':{3500,3500,20000,15000,11000,3500},\n",
    "   'duration':1, 'accessyear':1}"
   ]
  },
  {
   "cell_type": "code",
   "execution_count": 106,
   "id": "02c8eac0-274d-479c-9745-64b7e49850a0",
   "metadata": {},
   "outputs": [
    {
     "data": {
      "text/plain": [
       "{'course': ['dsa', 'ds', 'webdev', 'cloud'],\n",
       " 'mentor': ('sudhanshu', 'krish', 'pal', 'sunny'),\n",
       " 'price': {3500, 11000, 15000, 20000},\n",
       " 'duration': 1,\n",
       " 'accessyear': 1}"
      ]
     },
     "execution_count": 106,
     "metadata": {},
     "output_type": "execute_result"
    }
   ],
   "source": [
    "d5"
   ]
  },
  {
   "cell_type": "markdown",
   "id": "6d5ff3df-ccaa-4557-a90b-7b90c04120e0",
   "metadata": {},
   "source": [
    "##### Indexing:"
   ]
  },
  {
   "cell_type": "code",
   "execution_count": 104,
   "id": "24970c58-a950-489a-8286-d43c02e86eb2",
   "metadata": {},
   "outputs": [
    {
     "data": {
      "text/plain": [
       "['dsa', 'ds', 'webdev', 'cloud']"
      ]
     },
     "execution_count": 104,
     "metadata": {},
     "output_type": "execute_result"
    }
   ],
   "source": [
    "d5['course']"
   ]
  },
  {
   "cell_type": "code",
   "execution_count": 107,
   "id": "4fa5a575-b49f-4cdc-82ab-95016577b832",
   "metadata": {},
   "outputs": [
    {
     "data": {
      "text/plain": [
       "('sudhanshu', 'krish', 'pal', 'sunny')"
      ]
     },
     "execution_count": 107,
     "metadata": {},
     "output_type": "execute_result"
    }
   ],
   "source": [
    "d5['mentor']"
   ]
  },
  {
   "cell_type": "code",
   "execution_count": 108,
   "id": "4a8577f1-01ab-4801-a58e-6a2a829c1d1f",
   "metadata": {},
   "outputs": [],
   "source": [
    "d5['syllabus']=['py','ml','dl']"
   ]
  },
  {
   "cell_type": "code",
   "execution_count": 109,
   "id": "953736f8-d904-497d-a6fe-ca0c9994cbf3",
   "metadata": {},
   "outputs": [
    {
     "data": {
      "text/plain": [
       "{'course': ['dsa', 'ds', 'webdev', 'cloud'],\n",
       " 'mentor': ('sudhanshu', 'krish', 'pal', 'sunny'),\n",
       " 'price': {3500, 11000, 15000, 20000},\n",
       " 'duration': 1,\n",
       " 'accessyear': 1,\n",
       " 'syllabus': ['py', 'ml', 'dl']}"
      ]
     },
     "execution_count": 109,
     "metadata": {},
     "output_type": "execute_result"
    }
   ],
   "source": [
    "d5"
   ]
  },
  {
   "cell_type": "code",
   "execution_count": 115,
   "id": "f21f5401-60d9-40f4-aa44-7502ce84158b",
   "metadata": {},
   "outputs": [
    {
     "ename": "TypeError",
     "evalue": "unhashable type: 'list'",
     "output_type": "error",
     "traceback": [
      "\u001b[0;31m---------------------------------------------------------------------------\u001b[0m",
      "\u001b[0;31mTypeError\u001b[0m                                 Traceback (most recent call last)",
      "Cell \u001b[0;32mIn[115], line 1\u001b[0m\n\u001b[0;32m----> 1\u001b[0m \u001b[43md5\u001b[49m\u001b[43m[\u001b[49m\u001b[43m[\u001b[49m\u001b[38;5;124;43m'\u001b[39;49m\u001b[38;5;124;43mcourse\u001b[39;49m\u001b[38;5;124;43m'\u001b[39;49m\u001b[43m,\u001b[49m\u001b[38;5;124;43m'\u001b[39;49m\u001b[38;5;124;43mmentor\u001b[39;49m\u001b[38;5;124;43m'\u001b[39;49m\u001b[43m]\u001b[49m\u001b[43m]\u001b[49m \u001b[38;5;66;03m# cannot access multiple keys\u001b[39;00m\n",
      "\u001b[0;31mTypeError\u001b[0m: unhashable type: 'list'"
     ]
    }
   ],
   "source": [
    "d5[['course','mentor']] # cannot access multiple keys"
   ]
  },
  {
   "cell_type": "code",
   "execution_count": 110,
   "id": "4bb67c14-b62a-4e31-af50-8be32efe8feb",
   "metadata": {},
   "outputs": [
    {
     "data": {
      "text/plain": [
       "{'name': 'pwskills'}"
      ]
     },
     "execution_count": 110,
     "metadata": {},
     "output_type": "execute_result"
    }
   ],
   "source": [
    "d2"
   ]
  },
  {
   "cell_type": "code",
   "execution_count": 111,
   "id": "0d3f6562-141f-40d9-a3a1-e9d9fcd366b7",
   "metadata": {},
   "outputs": [],
   "source": [
    "d2['name']='krish'"
   ]
  },
  {
   "cell_type": "code",
   "execution_count": 112,
   "id": "1cbe224a-3931-4b48-8b25-aaea9ec62ff4",
   "metadata": {},
   "outputs": [
    {
     "data": {
      "text/plain": [
       "{'name': 'krish'}"
      ]
     },
     "execution_count": 112,
     "metadata": {},
     "output_type": "execute_result"
    }
   ],
   "source": [
    "d2"
   ]
  },
  {
   "cell_type": "markdown",
   "id": "9c2aefeb-8e17-4f4b-a74c-8e2feeeebd40",
   "metadata": {},
   "source": [
    "**Note:** Dictionary is mutable"
   ]
  },
  {
   "cell_type": "markdown",
   "id": "d3c513fa-da9d-438a-9f2e-8f9b4dfc084e",
   "metadata": {},
   "source": [
    "-------------------------"
   ]
  },
  {
   "cell_type": "markdown",
   "id": "677ee22e-62b3-45c9-98a2-46fe34839654",
   "metadata": {},
   "source": [
    "### Inbuilt Functions:"
   ]
  },
  {
   "cell_type": "code",
   "execution_count": 117,
   "id": "9a8875c0-7943-4630-ba2a-6e160c1006d9",
   "metadata": {},
   "outputs": [
    {
     "data": {
      "text/plain": [
       "[1, 2, 3, 4, 5, 'krish', (3+5j), 12.25, True, [5, 6]]"
      ]
     },
     "execution_count": 117,
     "metadata": {},
     "output_type": "execute_result"
    }
   ],
   "source": [
    "l1"
   ]
  },
  {
   "cell_type": "code",
   "execution_count": 121,
   "id": "4b6c1e35-a9b2-4a11-ab3f-e9a1eb3dcda0",
   "metadata": {},
   "outputs": [],
   "source": [
    "s1='pwskills'"
   ]
  },
  {
   "cell_type": "code",
   "execution_count": 122,
   "id": "789e2f26-ace6-4d1f-a274-408ca263365d",
   "metadata": {},
   "outputs": [
    {
     "data": {
      "text/plain": [
       "2"
      ]
     },
     "execution_count": 122,
     "metadata": {},
     "output_type": "execute_result"
    }
   ],
   "source": [
    "s1.count('l')"
   ]
  },
  {
   "cell_type": "code",
   "execution_count": 124,
   "id": "4760287f-83a7-4397-93a0-1afde63dc942",
   "metadata": {},
   "outputs": [
    {
     "data": {
      "text/plain": [
       "2"
      ]
     },
     "execution_count": 124,
     "metadata": {},
     "output_type": "execute_result"
    }
   ],
   "source": [
    "s1.find('s') #gives the index of the first occurence of the item"
   ]
  },
  {
   "cell_type": "code",
   "execution_count": 138,
   "id": "4f76f10b-1009-4b48-84bb-0d459a3768eb",
   "metadata": {},
   "outputs": [
    {
     "data": {
      "text/plain": [
       "5"
      ]
     },
     "execution_count": 138,
     "metadata": {},
     "output_type": "execute_result"
    }
   ],
   "source": [
    "s1.find('l') #gives the index of the first occurence of the item"
   ]
  },
  {
   "cell_type": "code",
   "execution_count": 137,
   "id": "1ab5e40f-0331-4c9d-8908-e1aa23b4085e",
   "metadata": {},
   "outputs": [
    {
     "data": {
      "text/plain": [
       "5"
      ]
     },
     "execution_count": 137,
     "metadata": {},
     "output_type": "execute_result"
    }
   ],
   "source": [
    "s1.index('l') #gives the index of the first occurence of the item"
   ]
  },
  {
   "cell_type": "markdown",
   "id": "f912b321-23ff-4ae8-b98b-5ea283ec9e30",
   "metadata": {},
   "source": [
    "Difference between find() and index():\n",
    "\n",
    "    * both the functions gives the index of the first occurence of the item\n",
    "    * diff is when we give the unavailable item, index gives error but find returns -1"
   ]
  },
  {
   "cell_type": "code",
   "execution_count": 127,
   "id": "e54755a7-e395-4870-9ce5-129dd4653d9e",
   "metadata": {},
   "outputs": [
    {
     "data": {
      "text/plain": [
       "-1"
      ]
     },
     "execution_count": 127,
     "metadata": {},
     "output_type": "execute_result"
    }
   ],
   "source": [
    "s1.find('z')"
   ]
  },
  {
   "cell_type": "code",
   "execution_count": 128,
   "id": "61734713-18ba-4b33-b4a9-9ce8b82886be",
   "metadata": {},
   "outputs": [
    {
     "ename": "ValueError",
     "evalue": "substring not found",
     "output_type": "error",
     "traceback": [
      "\u001b[0;31m---------------------------------------------------------------------------\u001b[0m",
      "\u001b[0;31mValueError\u001b[0m                                Traceback (most recent call last)",
      "Cell \u001b[0;32mIn[128], line 1\u001b[0m\n\u001b[0;32m----> 1\u001b[0m \u001b[43ms1\u001b[49m\u001b[38;5;241;43m.\u001b[39;49m\u001b[43mindex\u001b[49m\u001b[43m(\u001b[49m\u001b[38;5;124;43m'\u001b[39;49m\u001b[38;5;124;43mz\u001b[39;49m\u001b[38;5;124;43m'\u001b[39;49m\u001b[43m)\u001b[49m\n",
      "\u001b[0;31mValueError\u001b[0m: substring not found"
     ]
    }
   ],
   "source": [
    "s1.index('z')"
   ]
  },
  {
   "cell_type": "code",
   "execution_count": 129,
   "id": "1aa4fac3-3f12-4180-9f42-0a36b571f249",
   "metadata": {},
   "outputs": [
    {
     "data": {
      "text/plain": [
       "'pwskills'"
      ]
     },
     "execution_count": 129,
     "metadata": {},
     "output_type": "execute_result"
    }
   ],
   "source": [
    "s1"
   ]
  },
  {
   "cell_type": "code",
   "execution_count": 130,
   "id": "c0b72133-57cd-443f-b3cf-4b3a35c9e82d",
   "metadata": {},
   "outputs": [
    {
     "data": {
      "text/plain": [
       "'PWSKILLS'"
      ]
     },
     "execution_count": 130,
     "metadata": {},
     "output_type": "execute_result"
    }
   ],
   "source": [
    "s1.upper()"
   ]
  },
  {
   "cell_type": "code",
   "execution_count": 131,
   "id": "043666eb-3380-4d34-8901-a0f40126df36",
   "metadata": {},
   "outputs": [
    {
     "data": {
      "text/plain": [
       "'pwskills'"
      ]
     },
     "execution_count": 131,
     "metadata": {},
     "output_type": "execute_result"
    }
   ],
   "source": [
    "s1.lower()"
   ]
  },
  {
   "cell_type": "code",
   "execution_count": 132,
   "id": "d20044de-c4ed-482f-a3f2-25a9817c54f3",
   "metadata": {},
   "outputs": [
    {
     "data": {
      "text/plain": [
       "'Pwskills'"
      ]
     },
     "execution_count": 132,
     "metadata": {},
     "output_type": "execute_result"
    }
   ],
   "source": [
    "s1.title()"
   ]
  },
  {
   "cell_type": "code",
   "execution_count": 133,
   "id": "24a95de7-393e-4f86-9fc5-6ad1df819396",
   "metadata": {},
   "outputs": [],
   "source": [
    "s2='hey there, I am krishna'"
   ]
  },
  {
   "cell_type": "code",
   "execution_count": 134,
   "id": "432834c2-b748-461b-ae82-7e344fc4f407",
   "metadata": {},
   "outputs": [
    {
     "data": {
      "text/plain": [
       "'Hey There, I Am Krishna'"
      ]
     },
     "execution_count": 134,
     "metadata": {},
     "output_type": "execute_result"
    }
   ],
   "source": [
    "s2.title()"
   ]
  },
  {
   "cell_type": "code",
   "execution_count": 135,
   "id": "a3458935-bf88-4ddd-a16d-5400fd04bf90",
   "metadata": {},
   "outputs": [
    {
     "data": {
      "text/plain": [
       "'HEY THERE, I AM KRISHNA'"
      ]
     },
     "execution_count": 135,
     "metadata": {},
     "output_type": "execute_result"
    }
   ],
   "source": [
    "s2.upper()"
   ]
  },
  {
   "cell_type": "code",
   "execution_count": 136,
   "id": "7f8898b6-a0b2-4251-bff7-0dfec59ea697",
   "metadata": {},
   "outputs": [
    {
     "data": {
      "text/plain": [
       "'hey there, i am krishna'"
      ]
     },
     "execution_count": 136,
     "metadata": {},
     "output_type": "execute_result"
    }
   ],
   "source": [
    "s2.lower()"
   ]
  },
  {
   "cell_type": "code",
   "execution_count": 139,
   "id": "86b59f56-5528-4bcd-90bf-8430c7123f54",
   "metadata": {},
   "outputs": [
    {
     "data": {
      "text/plain": [
       "'hey there, I am krishna'"
      ]
     },
     "execution_count": 139,
     "metadata": {},
     "output_type": "execute_result"
    }
   ],
   "source": [
    "s2"
   ]
  },
  {
   "cell_type": "code",
   "execution_count": 140,
   "id": "ea647b90-eeb4-4260-ab86-4f9c6b8bc457",
   "metadata": {},
   "outputs": [
    {
     "data": {
      "text/plain": [
       "['hey', 'there,', 'I', 'am', 'krishna']"
      ]
     },
     "execution_count": 140,
     "metadata": {},
     "output_type": "execute_result"
    }
   ],
   "source": [
    "s2.split()"
   ]
  },
  {
   "cell_type": "code",
   "execution_count": 152,
   "id": "97537038-3328-426e-bcd9-81fad53973a3",
   "metadata": {},
   "outputs": [],
   "source": [
    "s3=\"my name,is,krishna\" #bydefault the split takes space as delimiter"
   ]
  },
  {
   "cell_type": "code",
   "execution_count": 148,
   "id": "344129c6-1c4b-4cf1-89df-c2379f70bc45",
   "metadata": {},
   "outputs": [
    {
     "data": {
      "text/plain": [
       "['my', 'name,is,krishna']"
      ]
     },
     "execution_count": 148,
     "metadata": {},
     "output_type": "execute_result"
    }
   ],
   "source": [
    "s3.split()"
   ]
  },
  {
   "cell_type": "code",
   "execution_count": 150,
   "id": "ae885349-f938-4fa4-a67d-e09ce887e8c8",
   "metadata": {},
   "outputs": [
    {
     "data": {
      "text/plain": [
       "['my name', 'is', 'krishna']"
      ]
     },
     "execution_count": 150,
     "metadata": {},
     "output_type": "execute_result"
    }
   ],
   "source": [
    "s3.split(',')"
   ]
  },
  {
   "cell_type": "code",
   "execution_count": 153,
   "id": "6f9eadaf-a41b-4eb4-ac10-b19f8aa42695",
   "metadata": {},
   "outputs": [
    {
     "data": {
      "text/plain": [
       "['my name,i', ',kri', 'hna']"
      ]
     },
     "execution_count": 153,
     "metadata": {},
     "output_type": "execute_result"
    }
   ],
   "source": [
    "s3.split('s')"
   ]
  },
  {
   "cell_type": "code",
   "execution_count": 155,
   "id": "54e5f250-87cb-468a-b77f-20fa7e6f879c",
   "metadata": {},
   "outputs": [],
   "source": [
    "s4='This is fsds pro course. I am attending the 4th class'"
   ]
  },
  {
   "cell_type": "code",
   "execution_count": 156,
   "id": "c134e142-3d5e-4d89-b101-d687d96396b8",
   "metadata": {},
   "outputs": [
    {
     "data": {
      "text/plain": [
       "['This is fsds pro course', ' I am attending the 4th class']"
      ]
     },
     "execution_count": 156,
     "metadata": {},
     "output_type": "execute_result"
    }
   ],
   "source": [
    "s4.split('.')"
   ]
  },
  {
   "cell_type": "code",
   "execution_count": 157,
   "id": "bd03eae8-f4c8-4888-9eb9-9e930a3b5c44",
   "metadata": {},
   "outputs": [
    {
     "data": {
      "text/plain": [
       "'This is fsds pro course'"
      ]
     },
     "execution_count": 157,
     "metadata": {},
     "output_type": "execute_result"
    }
   ],
   "source": [
    "s4.split('.')[0]"
   ]
  },
  {
   "cell_type": "code",
   "execution_count": 161,
   "id": "d73a980d-df6f-4e8a-8988-5c3df6110a27",
   "metadata": {},
   "outputs": [
    {
     "data": {
      "text/plain": [
       "'hey there, I am krishna'"
      ]
     },
     "execution_count": 161,
     "metadata": {},
     "output_type": "execute_result"
    }
   ],
   "source": [
    "s2"
   ]
  },
  {
   "cell_type": "code",
   "execution_count": 160,
   "id": "2913f297-7315-48e3-8486-cc46a4ce6112",
   "metadata": {},
   "outputs": [
    {
     "data": {
      "text/plain": [
       "'Hey there, i am krishna'"
      ]
     },
     "execution_count": 160,
     "metadata": {},
     "output_type": "execute_result"
    }
   ],
   "source": [
    "s2.capitalize()"
   ]
  },
  {
   "cell_type": "code",
   "execution_count": 162,
   "id": "c7ef0c53-87e7-40ec-b5ca-f699550f422b",
   "metadata": {},
   "outputs": [
    {
     "data": {
      "text/plain": [
       "'Hey There, I Am Krishna'"
      ]
     },
     "execution_count": 162,
     "metadata": {},
     "output_type": "execute_result"
    }
   ],
   "source": [
    "s2.title()"
   ]
  },
  {
   "cell_type": "code",
   "execution_count": 163,
   "id": "f257dd0d-10ea-4f0f-ba1b-deacbb82db6b",
   "metadata": {},
   "outputs": [
    {
     "data": {
      "text/plain": [
       "'HEY THERE, I AM KRISHNA'"
      ]
     },
     "execution_count": 163,
     "metadata": {},
     "output_type": "execute_result"
    }
   ],
   "source": [
    "s2.upper()"
   ]
  },
  {
   "cell_type": "code",
   "execution_count": 164,
   "id": "d50b4f28-dec5-47f6-89b2-77de8a7f9476",
   "metadata": {},
   "outputs": [
    {
     "data": {
      "text/plain": [
       "'hey there, I am krishna'"
      ]
     },
     "execution_count": 164,
     "metadata": {},
     "output_type": "execute_result"
    }
   ],
   "source": [
    "s2"
   ]
  },
  {
   "cell_type": "code",
   "execution_count": 168,
   "id": "8904585a-a810-4453-8756-ee6027006314",
   "metadata": {},
   "outputs": [
    {
     "data": {
      "text/plain": [
       "139621804341440"
      ]
     },
     "execution_count": 168,
     "metadata": {},
     "output_type": "execute_result"
    }
   ],
   "source": [
    "id(s2)"
   ]
  },
  {
   "cell_type": "code",
   "execution_count": 166,
   "id": "69ded71e-b6c2-40d5-ab77-1967e59357d6",
   "metadata": {},
   "outputs": [
    {
     "data": {
      "text/plain": [
       "'hey there, my name is krishna'"
      ]
     },
     "execution_count": 166,
     "metadata": {},
     "output_type": "execute_result"
    }
   ],
   "source": [
    "s2.replace('I am','my name is') #replacing 'I am' with 'my name is'"
   ]
  },
  {
   "cell_type": "code",
   "execution_count": 169,
   "id": "34f05e4a-b9cb-48a1-98dc-4cd43de78589",
   "metadata": {},
   "outputs": [
    {
     "data": {
      "text/plain": [
       "139621805858912"
      ]
     },
     "execution_count": 169,
     "metadata": {},
     "output_type": "execute_result"
    }
   ],
   "source": [
    "id(s2.replace('I am','my name is'))"
   ]
  },
  {
   "cell_type": "markdown",
   "id": "f95c1c19-1738-4b92-85c5-4c1903091eec",
   "metadata": {},
   "source": [
    ">strings are immutable --- s2.replace() creates a new reference"
   ]
  },
  {
   "cell_type": "code",
   "execution_count": 167,
   "id": "60073f11-1caf-42d8-bfa5-231fab47090d",
   "metadata": {},
   "outputs": [
    {
     "data": {
      "text/plain": [
       "'hey there, I am krishna'"
      ]
     },
     "execution_count": 167,
     "metadata": {},
     "output_type": "execute_result"
    }
   ],
   "source": [
    "s2"
   ]
  },
  {
   "cell_type": "code",
   "execution_count": 170,
   "id": "7d6895bc-bd9d-413e-aa05-36a5da93d97a",
   "metadata": {},
   "outputs": [
    {
     "data": {
      "text/plain": [
       "139621804341440"
      ]
     },
     "execution_count": 170,
     "metadata": {},
     "output_type": "execute_result"
    }
   ],
   "source": [
    "id(s2)"
   ]
  },
  {
   "cell_type": "code",
   "execution_count": 176,
   "id": "42ad2d9c-effb-4ea7-91f7-2bd353f5d980",
   "metadata": {},
   "outputs": [
    {
     "data": {
      "text/plain": [
       "'ffhif'"
      ]
     },
     "execution_count": 176,
     "metadata": {},
     "output_type": "execute_result"
    }
   ],
   "source": [
    "'hi'.center(5,'f')"
   ]
  },
  {
   "cell_type": "code",
   "execution_count": 181,
   "id": "a7d8b621-efc5-43c5-b0a6-8674a5fd7e78",
   "metadata": {},
   "outputs": [],
   "source": [
    "s5='    pwskills    '"
   ]
  },
  {
   "cell_type": "code",
   "execution_count": 182,
   "id": "bf2e596d-0f00-46d4-809e-7d092cdc9c96",
   "metadata": {},
   "outputs": [
    {
     "data": {
      "text/plain": [
       "'    pwskills'"
      ]
     },
     "execution_count": 182,
     "metadata": {},
     "output_type": "execute_result"
    }
   ],
   "source": [
    "s5.rstrip()"
   ]
  },
  {
   "cell_type": "code",
   "execution_count": 185,
   "id": "fb6d7438-4383-4759-80e9-5b322473af05",
   "metadata": {},
   "outputs": [
    {
     "data": {
      "text/plain": [
       "'pwskills    '"
      ]
     },
     "execution_count": 185,
     "metadata": {},
     "output_type": "execute_result"
    }
   ],
   "source": [
    "s5.lstrip()"
   ]
  },
  {
   "cell_type": "code",
   "execution_count": 184,
   "id": "e3b67092-68a4-4325-a037-7f368501138b",
   "metadata": {},
   "outputs": [
    {
     "data": {
      "text/plain": [
       "'pwskills'"
      ]
     },
     "execution_count": 184,
     "metadata": {},
     "output_type": "execute_result"
    }
   ],
   "source": [
    "s5.strip()"
   ]
  },
  {
   "cell_type": "code",
   "execution_count": 13,
   "id": "522fc882-eafc-47d1-9a52-9f4538e709e9",
   "metadata": {},
   "outputs": [],
   "source": [
    "s2='pwskills'"
   ]
  },
  {
   "cell_type": "code",
   "execution_count": 14,
   "id": "1bce375e-3327-4862-a8a3-594639178f2d",
   "metadata": {},
   "outputs": [
    {
     "data": {
      "text/plain": [
       "True"
      ]
     },
     "execution_count": 14,
     "metadata": {},
     "output_type": "execute_result"
    }
   ],
   "source": [
    "s2.isalnum()"
   ]
  },
  {
   "cell_type": "code",
   "execution_count": 15,
   "id": "6d7411ca-d541-4201-98db-97797ce7cb0c",
   "metadata": {},
   "outputs": [
    {
     "data": {
      "text/plain": [
       "True"
      ]
     },
     "execution_count": 15,
     "metadata": {},
     "output_type": "execute_result"
    }
   ],
   "source": [
    "s2.isalpha()"
   ]
  },
  {
   "cell_type": "code",
   "execution_count": 16,
   "id": "14d85707-0b29-48ec-9a55-2032d6b7bdf5",
   "metadata": {},
   "outputs": [
    {
     "data": {
      "text/plain": [
       "True"
      ]
     },
     "execution_count": 16,
     "metadata": {},
     "output_type": "execute_result"
    }
   ],
   "source": [
    "s2.islower()"
   ]
  },
  {
   "cell_type": "code",
   "execution_count": 21,
   "id": "2837506f-52d1-446a-a950-1c4d5c1f8ede",
   "metadata": {},
   "outputs": [
    {
     "data": {
      "text/plain": [
       "False"
      ]
     },
     "execution_count": 21,
     "metadata": {},
     "output_type": "execute_result"
    }
   ],
   "source": [
    "s2.isdigit()"
   ]
  },
  {
   "cell_type": "code",
   "execution_count": 17,
   "id": "46293216-2c0c-4a6f-971b-fec2cc92ad03",
   "metadata": {},
   "outputs": [],
   "source": [
    "l1=[1,2,3,4,5, 'krish', 3+5j, 12.25, True, [5,6]]"
   ]
  },
  {
   "cell_type": "code",
   "execution_count": 18,
   "id": "1015d32c-1806-441c-9afa-b6b98e1825ed",
   "metadata": {},
   "outputs": [
    {
     "data": {
      "text/plain": [
       "[1, 2, 3, 4, 5, 'krish', (3+5j), 12.25, True, [5, 6]]"
      ]
     },
     "execution_count": 18,
     "metadata": {},
     "output_type": "execute_result"
    }
   ],
   "source": [
    "l1"
   ]
  },
  {
   "cell_type": "code",
   "execution_count": 19,
   "id": "d525c90b-0deb-4f10-8615-873c9c069081",
   "metadata": {},
   "outputs": [],
   "source": [
    "l1.append('hey')"
   ]
  },
  {
   "cell_type": "code",
   "execution_count": 20,
   "id": "6991fc52-a5ec-4fd0-bb79-c91edf999729",
   "metadata": {},
   "outputs": [
    {
     "data": {
      "text/plain": [
       "[1, 2, 3, 4, 5, 'krish', (3+5j), 12.25, True, [5, 6], 'hey']"
      ]
     },
     "execution_count": 20,
     "metadata": {},
     "output_type": "execute_result"
    }
   ],
   "source": [
    "l1"
   ]
  },
  {
   "cell_type": "code",
   "execution_count": 24,
   "id": "45a4d8fe-5655-4685-8bd8-aad357bb61b0",
   "metadata": {},
   "outputs": [],
   "source": [
    "l1.insert(1,'ok') #inserts the item in the mentioned index"
   ]
  },
  {
   "cell_type": "code",
   "execution_count": 23,
   "id": "984b1399-fa0b-483f-8f19-82dc9bd6db03",
   "metadata": {},
   "outputs": [
    {
     "data": {
      "text/plain": [
       "[1, 'ok', 2, 3, 4, 5, 'krish', (3+5j), 12.25, True, [5, 6], 'hey']"
      ]
     },
     "execution_count": 23,
     "metadata": {},
     "output_type": "execute_result"
    }
   ],
   "source": [
    "l1"
   ]
  },
  {
   "cell_type": "code",
   "execution_count": 4,
   "id": "2333e6fc-9a06-413f-805a-e0920af75ee7",
   "metadata": {},
   "outputs": [],
   "source": [
    "l3=[3,4,5,'pwskills','krish']"
   ]
  },
  {
   "cell_type": "code",
   "execution_count": 5,
   "id": "8319e1fe-a7f1-4f9f-93ee-b726610c2f3f",
   "metadata": {},
   "outputs": [
    {
     "data": {
      "text/plain": [
       "[3, 4, 5, 'pwskills', 'krish']"
      ]
     },
     "execution_count": 5,
     "metadata": {},
     "output_type": "execute_result"
    }
   ],
   "source": [
    "l3"
   ]
  },
  {
   "cell_type": "code",
   "execution_count": 7,
   "id": "40607d8d-2c7f-4a43-b5a3-f65255401758",
   "metadata": {},
   "outputs": [],
   "source": [
    "l3.append(\"developer\")"
   ]
  },
  {
   "cell_type": "code",
   "execution_count": 8,
   "id": "dd418808-b590-453f-8167-ee950f38c84e",
   "metadata": {},
   "outputs": [
    {
     "data": {
      "text/plain": [
       "[3, 4, 5, 'pwskills', 'krish', 'developer']"
      ]
     },
     "execution_count": 8,
     "metadata": {},
     "output_type": "execute_result"
    }
   ],
   "source": [
    "l3"
   ]
  },
  {
   "cell_type": "code",
   "execution_count": 18,
   "id": "21b47806-39f6-47b6-af34-02ec19251e9f",
   "metadata": {},
   "outputs": [],
   "source": [
    "l3.extend('hello') #splits and then appends the elements at the end"
   ]
  },
  {
   "cell_type": "code",
   "execution_count": 10,
   "id": "30cf9511-f715-4473-aa35-ad1804adffcd",
   "metadata": {},
   "outputs": [
    {
     "data": {
      "text/plain": [
       "[3, 4, 5, 'pwskills', 'krish', 'developer', 'h', 'e', 'l', 'l', 'o']"
      ]
     },
     "execution_count": 10,
     "metadata": {},
     "output_type": "execute_result"
    }
   ],
   "source": [
    "l3"
   ]
  },
  {
   "cell_type": "code",
   "execution_count": 11,
   "id": "bdaebd14-766d-461f-8818-84ecb004f2ad",
   "metadata": {},
   "outputs": [],
   "source": [
    "l3.append([1,2,3])"
   ]
  },
  {
   "cell_type": "code",
   "execution_count": 12,
   "id": "5d75eb81-83dc-4212-a32d-e6f575fba116",
   "metadata": {},
   "outputs": [
    {
     "data": {
      "text/plain": [
       "[3, 4, 5, 'pwskills', 'krish', 'developer', 'h', 'e', 'l', 'l', 'o', [1, 2, 3]]"
      ]
     },
     "execution_count": 12,
     "metadata": {},
     "output_type": "execute_result"
    }
   ],
   "source": [
    "l3"
   ]
  },
  {
   "cell_type": "code",
   "execution_count": 13,
   "id": "cd352e87-b403-466f-a38e-5928e633d99b",
   "metadata": {},
   "outputs": [],
   "source": [
    "l3.insert(1,[6,8,9])"
   ]
  },
  {
   "cell_type": "code",
   "execution_count": 14,
   "id": "d9ad1fe5-ffcb-4fef-bb65-7e1d2d290f03",
   "metadata": {},
   "outputs": [
    {
     "data": {
      "text/plain": [
       "[3,\n",
       " [6, 8, 9],\n",
       " 4,\n",
       " 5,\n",
       " 'pwskills',\n",
       " 'krish',\n",
       " 'developer',\n",
       " 'h',\n",
       " 'e',\n",
       " 'l',\n",
       " 'l',\n",
       " 'o',\n",
       " [1, 2, 3]]"
      ]
     },
     "execution_count": 14,
     "metadata": {},
     "output_type": "execute_result"
    }
   ],
   "source": [
    "l3"
   ]
  },
  {
   "cell_type": "code",
   "execution_count": 15,
   "id": "fda423b1-bdef-4689-be84-03329637d063",
   "metadata": {},
   "outputs": [],
   "source": [
    "l3.extend([78,89,56])"
   ]
  },
  {
   "cell_type": "code",
   "execution_count": 16,
   "id": "c07e9f9c-fcfc-488b-921c-424e703f80b3",
   "metadata": {},
   "outputs": [
    {
     "data": {
      "text/plain": [
       "[3,\n",
       " [6, 8, 9],\n",
       " 4,\n",
       " 5,\n",
       " 'pwskills',\n",
       " 'krish',\n",
       " 'developer',\n",
       " 'h',\n",
       " 'e',\n",
       " 'l',\n",
       " 'l',\n",
       " 'o',\n",
       " [1, 2, 3],\n",
       " 78,\n",
       " 89,\n",
       " 56]"
      ]
     },
     "execution_count": 16,
     "metadata": {},
     "output_type": "execute_result"
    }
   ],
   "source": [
    "l3"
   ]
  },
  {
   "cell_type": "code",
   "execution_count": 19,
   "id": "93287727-b36c-4cd7-9f7a-cb9b8dd15926",
   "metadata": {},
   "outputs": [
    {
     "data": {
      "text/plain": [
       "[3,\n",
       " [6, 8, 9],\n",
       " 4,\n",
       " 5,\n",
       " 'pwskills',\n",
       " 'krish',\n",
       " 'developer',\n",
       " 'h',\n",
       " 'e',\n",
       " 'l',\n",
       " 'l',\n",
       " 'o',\n",
       " [1, 2, 3],\n",
       " 78,\n",
       " 89,\n",
       " 56,\n",
       " 'h',\n",
       " 'e',\n",
       " 'l',\n",
       " 'l',\n",
       " 'o',\n",
       " 'h',\n",
       " 'e',\n",
       " 'l',\n",
       " 'l',\n",
       " 'o']"
      ]
     },
     "execution_count": 19,
     "metadata": {},
     "output_type": "execute_result"
    }
   ],
   "source": [
    "l3"
   ]
  },
  {
   "cell_type": "code",
   "execution_count": 22,
   "id": "62b869ee-dfcd-4c26-8265-eda8cf279173",
   "metadata": {},
   "outputs": [
    {
     "data": {
      "text/plain": [
       "'l'"
      ]
     },
     "execution_count": 22,
     "metadata": {},
     "output_type": "execute_result"
    }
   ],
   "source": [
    "l3.pop() #delets the last element"
   ]
  },
  {
   "cell_type": "code",
   "execution_count": 23,
   "id": "108897aa-f238-4526-98a5-811f5d80f366",
   "metadata": {},
   "outputs": [
    {
     "data": {
      "text/plain": [
       "[3,\n",
       " [6, 8, 9],\n",
       " 4,\n",
       " 5,\n",
       " 'pwskills',\n",
       " 'krish',\n",
       " 'developer',\n",
       " 'h',\n",
       " 'e',\n",
       " 'l',\n",
       " 'l',\n",
       " 'o',\n",
       " [1, 2, 3],\n",
       " 78,\n",
       " 89,\n",
       " 56,\n",
       " 'h',\n",
       " 'e',\n",
       " 'l',\n",
       " 'l',\n",
       " 'o',\n",
       " 'h',\n",
       " 'e',\n",
       " 'l']"
      ]
     },
     "execution_count": 23,
     "metadata": {},
     "output_type": "execute_result"
    }
   ],
   "source": [
    "l3"
   ]
  },
  {
   "cell_type": "code",
   "execution_count": 28,
   "id": "033d51cd-565c-44ba-8b2b-2a77e675dbc4",
   "metadata": {},
   "outputs": [
    {
     "data": {
      "text/plain": [
       "[6, 8, 9]"
      ]
     },
     "execution_count": 28,
     "metadata": {},
     "output_type": "execute_result"
    }
   ],
   "source": [
    "l3.pop(1) #index at which the element is present to delete"
   ]
  },
  {
   "cell_type": "code",
   "execution_count": 29,
   "id": "078cdb4a-def6-42b1-9895-2e44d887ce7f",
   "metadata": {},
   "outputs": [
    {
     "data": {
      "text/plain": [
       "[3,\n",
       " 4,\n",
       " 5,\n",
       " 'krish',\n",
       " 'developer',\n",
       " 'h',\n",
       " 'l',\n",
       " 'l',\n",
       " 'o',\n",
       " [1, 2, 3],\n",
       " 78,\n",
       " 89,\n",
       " 56,\n",
       " 'h',\n",
       " 'e',\n",
       " 'l',\n",
       " 'l',\n",
       " 'o',\n",
       " 'h',\n",
       " 'e',\n",
       " 'l']"
      ]
     },
     "execution_count": 29,
     "metadata": {},
     "output_type": "execute_result"
    }
   ],
   "source": [
    "l3"
   ]
  },
  {
   "cell_type": "code",
   "execution_count": 30,
   "id": "ef7d7a2d-4c7a-4291-9373-00164f4aac77",
   "metadata": {},
   "outputs": [],
   "source": [
    "del l3"
   ]
  },
  {
   "cell_type": "code",
   "execution_count": 31,
   "id": "bff5ade6-eee3-45c1-aab9-cadb66a2e5d1",
   "metadata": {},
   "outputs": [
    {
     "ename": "NameError",
     "evalue": "name 'l3' is not defined",
     "output_type": "error",
     "traceback": [
      "\u001b[0;31m---------------------------------------------------------------------------\u001b[0m",
      "\u001b[0;31mNameError\u001b[0m                                 Traceback (most recent call last)",
      "Cell \u001b[0;32mIn[31], line 1\u001b[0m\n\u001b[0;32m----> 1\u001b[0m \u001b[43ml3\u001b[49m\n",
      "\u001b[0;31mNameError\u001b[0m: name 'l3' is not defined"
     ]
    }
   ],
   "source": [
    "l3"
   ]
  },
  {
   "cell_type": "code",
   "execution_count": 45,
   "id": "9819b55f-623a-4120-86b9-37a745cb5455",
   "metadata": {},
   "outputs": [],
   "source": [
    "l1=[1,2,5,5,5,6]"
   ]
  },
  {
   "cell_type": "code",
   "execution_count": 46,
   "id": "ddb99fc7-7965-4ef5-9593-2f068afe3b62",
   "metadata": {},
   "outputs": [
    {
     "data": {
      "text/plain": [
       "[1, 2, 5, 5, 5, 6]"
      ]
     },
     "execution_count": 46,
     "metadata": {},
     "output_type": "execute_result"
    }
   ],
   "source": [
    "l1"
   ]
  },
  {
   "cell_type": "code",
   "execution_count": 49,
   "id": "75b3cf24-5360-4b3c-99ba-c5546f6f9a92",
   "metadata": {},
   "outputs": [],
   "source": [
    "l1.remove(5) #removes the mentioned element - 1st occurence"
   ]
  },
  {
   "cell_type": "code",
   "execution_count": 50,
   "id": "479ae285-46b1-490e-b891-386c6a815c00",
   "metadata": {},
   "outputs": [
    {
     "data": {
      "text/plain": [
       "[1, 2, 5, 5, 6]"
      ]
     },
     "execution_count": 50,
     "metadata": {},
     "output_type": "execute_result"
    }
   ],
   "source": [
    "l1"
   ]
  },
  {
   "cell_type": "code",
   "execution_count": 51,
   "id": "de599200-8117-48d7-925e-813b8e1a6b1b",
   "metadata": {},
   "outputs": [
    {
     "ename": "ValueError",
     "evalue": "list.remove(x): x not in list",
     "output_type": "error",
     "traceback": [
      "\u001b[0;31m---------------------------------------------------------------------------\u001b[0m",
      "\u001b[0;31mValueError\u001b[0m                                Traceback (most recent call last)",
      "Cell \u001b[0;32mIn[51], line 1\u001b[0m\n\u001b[0;32m----> 1\u001b[0m \u001b[43ml1\u001b[49m\u001b[38;5;241;43m.\u001b[39;49m\u001b[43mremove\u001b[49m\u001b[43m(\u001b[49m\u001b[38;5;124;43m'\u001b[39;49m\u001b[38;5;124;43mz\u001b[39;49m\u001b[38;5;124;43m'\u001b[39;49m\u001b[43m)\u001b[49m\n",
      "\u001b[0;31mValueError\u001b[0m: list.remove(x): x not in list"
     ]
    }
   ],
   "source": [
    "l1.remove('z')"
   ]
  },
  {
   "cell_type": "code",
   "execution_count": 52,
   "id": "4f8d8b3f-7e76-497a-b3f1-1debe3d8bd06",
   "metadata": {},
   "outputs": [
    {
     "ename": "IndexError",
     "evalue": "pop index out of range",
     "output_type": "error",
     "traceback": [
      "\u001b[0;31m---------------------------------------------------------------------------\u001b[0m",
      "\u001b[0;31mIndexError\u001b[0m                                Traceback (most recent call last)",
      "Cell \u001b[0;32mIn[52], line 1\u001b[0m\n\u001b[0;32m----> 1\u001b[0m \u001b[43ml1\u001b[49m\u001b[38;5;241;43m.\u001b[39;49m\u001b[43mpop\u001b[49m\u001b[43m(\u001b[49m\u001b[38;5;241;43m100\u001b[39;49m\u001b[43m)\u001b[49m\n",
      "\u001b[0;31mIndexError\u001b[0m: pop index out of range"
     ]
    }
   ],
   "source": [
    "l1.pop(100)"
   ]
  },
  {
   "cell_type": "code",
   "execution_count": 53,
   "id": "7c2f992d-4a41-4347-bfba-b516879998c7",
   "metadata": {},
   "outputs": [],
   "source": [
    "l1.clear()"
   ]
  },
  {
   "cell_type": "code",
   "execution_count": 54,
   "id": "8c6cc383-f626-4871-9f55-d03f9a626317",
   "metadata": {},
   "outputs": [
    {
     "data": {
      "text/plain": [
       "[]"
      ]
     },
     "execution_count": 54,
     "metadata": {},
     "output_type": "execute_result"
    }
   ],
   "source": [
    "l1"
   ]
  },
  {
   "cell_type": "code",
   "execution_count": 55,
   "id": "794111ad-ea93-4c90-9756-02cdd6c05cc8",
   "metadata": {},
   "outputs": [],
   "source": [
    "l1=[1,2,3,4,5,5,5, 'krish', 3+5j, 12.25, True, [5,6]]"
   ]
  },
  {
   "cell_type": "code",
   "execution_count": 56,
   "id": "4edf89b0-6c3d-43ca-ad77-d030b35b9efd",
   "metadata": {},
   "outputs": [
    {
     "data": {
      "text/plain": [
       "3"
      ]
     },
     "execution_count": 56,
     "metadata": {},
     "output_type": "execute_result"
    }
   ],
   "source": [
    "l1.count(5)"
   ]
  },
  {
   "cell_type": "code",
   "execution_count": 57,
   "id": "9035322a-5169-4dad-9ae6-33692fc4656a",
   "metadata": {},
   "outputs": [
    {
     "data": {
      "text/plain": [
       "4"
      ]
     },
     "execution_count": 57,
     "metadata": {},
     "output_type": "execute_result"
    }
   ],
   "source": [
    "l1.index(5)"
   ]
  },
  {
   "cell_type": "code",
   "execution_count": 58,
   "id": "e782ed49-d9d4-4c40-b701-9861b7d72736",
   "metadata": {},
   "outputs": [],
   "source": [
    "l1.reverse()"
   ]
  },
  {
   "cell_type": "code",
   "execution_count": 59,
   "id": "20aac1a8-89b9-4093-93c4-9d7f9f48b23e",
   "metadata": {},
   "outputs": [
    {
     "data": {
      "text/plain": [
       "[[5, 6], True, 12.25, (3+5j), 'krish', 5, 5, 5, 4, 3, 2, 1]"
      ]
     },
     "execution_count": 59,
     "metadata": {},
     "output_type": "execute_result"
    }
   ],
   "source": [
    "l1"
   ]
  },
  {
   "cell_type": "code",
   "execution_count": 60,
   "id": "254c2505-34cc-4be3-bb82-7cbe006fa79c",
   "metadata": {},
   "outputs": [],
   "source": [
    "l3=[1,2,5,6,8,6,9,5]"
   ]
  },
  {
   "cell_type": "code",
   "execution_count": 61,
   "id": "c5ef8bc2-3149-4a5b-a268-787f3e4efba5",
   "metadata": {},
   "outputs": [],
   "source": [
    "l3.sort()"
   ]
  },
  {
   "cell_type": "code",
   "execution_count": 62,
   "id": "396c7b4b-6e43-4a85-85a1-6f851b81292f",
   "metadata": {},
   "outputs": [
    {
     "data": {
      "text/plain": [
       "[1, 2, 5, 5, 6, 6, 8, 9]"
      ]
     },
     "execution_count": 62,
     "metadata": {},
     "output_type": "execute_result"
    }
   ],
   "source": [
    "l3"
   ]
  },
  {
   "cell_type": "code",
   "execution_count": 66,
   "id": "ac43453f-462f-4090-b4ec-4d17e18bacd4",
   "metadata": {},
   "outputs": [],
   "source": [
    "l3.sort(reverse=True)"
   ]
  },
  {
   "cell_type": "code",
   "execution_count": 67,
   "id": "518cd923-712c-4df6-a933-02995d82b156",
   "metadata": {},
   "outputs": [
    {
     "data": {
      "text/plain": [
       "[9, 8, 6, 6, 5, 5, 2, 1]"
      ]
     },
     "execution_count": 67,
     "metadata": {},
     "output_type": "execute_result"
    }
   ],
   "source": [
    "l3"
   ]
  },
  {
   "cell_type": "code",
   "execution_count": 63,
   "id": "93ce5840-779e-4186-a6f8-820068b77cc5",
   "metadata": {},
   "outputs": [],
   "source": [
    "l4=['krish','a','c','d','b']"
   ]
  },
  {
   "cell_type": "code",
   "execution_count": 64,
   "id": "2111dc29-60bc-4583-8bc5-3619aa7d6120",
   "metadata": {},
   "outputs": [],
   "source": [
    "l4.sort()"
   ]
  },
  {
   "cell_type": "code",
   "execution_count": 65,
   "id": "2d111a01-890e-401e-8e5f-82923aef961f",
   "metadata": {},
   "outputs": [
    {
     "data": {
      "text/plain": [
       "['a', 'b', 'c', 'd', 'krish']"
      ]
     },
     "execution_count": 65,
     "metadata": {},
     "output_type": "execute_result"
    }
   ],
   "source": [
    "l4"
   ]
  },
  {
   "cell_type": "code",
   "execution_count": 74,
   "id": "48de6d24-f43c-4636-85a7-279a679839a0",
   "metadata": {},
   "outputs": [
    {
     "data": {
      "text/plain": [
       "[9, 8, 6, 6, 5, 5, 2, 1]"
      ]
     },
     "execution_count": 74,
     "metadata": {},
     "output_type": "execute_result"
    }
   ],
   "source": [
    "l3"
   ]
  },
  {
   "cell_type": "code",
   "execution_count": 77,
   "id": "c6b3ab82-5742-4a88-89dd-cf04e4d24613",
   "metadata": {},
   "outputs": [],
   "source": [
    "l5=list(set(l3))"
   ]
  },
  {
   "cell_type": "code",
   "execution_count": 80,
   "id": "446b74ac-9031-4680-a100-4fbbfbd4c58c",
   "metadata": {},
   "outputs": [
    {
     "data": {
      "text/plain": [
       "[1, 2, 5, 6, 8, 9]"
      ]
     },
     "execution_count": 80,
     "metadata": {},
     "output_type": "execute_result"
    }
   ],
   "source": [
    "l5.sort()\n",
    "l5"
   ]
  },
  {
   "cell_type": "code",
   "execution_count": 81,
   "id": "3bd08c03-941c-4e0e-8ce8-289f442376d5",
   "metadata": {},
   "outputs": [
    {
     "data": {
      "text/plain": [
       "[[5, 6], True, 12.25, (3+5j), 'krish', 5, 5, 5, 4, 3, 2, 1]"
      ]
     },
     "execution_count": 81,
     "metadata": {},
     "output_type": "execute_result"
    }
   ],
   "source": [
    "l1"
   ]
  },
  {
   "cell_type": "code",
   "execution_count": 83,
   "id": "848a776a-9286-4317-bc1e-51bb930328ef",
   "metadata": {},
   "outputs": [
    {
     "data": {
      "text/plain": [
       "[1, 2, 5, 6, 8, 9]"
      ]
     },
     "execution_count": 83,
     "metadata": {},
     "output_type": "execute_result"
    }
   ],
   "source": [
    "l5"
   ]
  },
  {
   "cell_type": "markdown",
   "id": "6e108449-9b65-4fff-8a65-24b4ac195e6d",
   "metadata": {},
   "source": [
    "##### Deep copy and Shallow copy:"
   ]
  },
  {
   "cell_type": "code",
   "execution_count": 1,
   "id": "3f9fdbe0-2479-4016-8303-b29dd0571352",
   "metadata": {},
   "outputs": [],
   "source": [
    "lst0=[1,2,3,4,5]"
   ]
  },
  {
   "cell_type": "code",
   "execution_count": 2,
   "id": "e252464d-bc42-422d-8982-1e59ecf83cdf",
   "metadata": {},
   "outputs": [
    {
     "data": {
      "text/plain": [
       "139923257026432"
      ]
     },
     "execution_count": 2,
     "metadata": {},
     "output_type": "execute_result"
    }
   ],
   "source": [
    "id(lst0)"
   ]
  },
  {
   "cell_type": "code",
   "execution_count": 3,
   "id": "86860d81-525b-438d-bec1-3e6a11402f3c",
   "metadata": {},
   "outputs": [],
   "source": [
    "lst1=lst0"
   ]
  },
  {
   "cell_type": "code",
   "execution_count": 4,
   "id": "5cbb3699-19bd-43d2-93d8-a39dd48bb63b",
   "metadata": {},
   "outputs": [
    {
     "data": {
      "text/plain": [
       "[1, 2, 3, 4, 5]"
      ]
     },
     "execution_count": 4,
     "metadata": {},
     "output_type": "execute_result"
    }
   ],
   "source": [
    "lst1"
   ]
  },
  {
   "cell_type": "code",
   "execution_count": 5,
   "id": "4294ed4c-1b8f-43b1-857c-fc39e2355ce5",
   "metadata": {},
   "outputs": [
    {
     "data": {
      "text/plain": [
       "139923257026432"
      ]
     },
     "execution_count": 5,
     "metadata": {},
     "output_type": "execute_result"
    }
   ],
   "source": [
    "id(lst1)"
   ]
  },
  {
   "cell_type": "markdown",
   "id": "4cddb92b-1a87-4bf9-9a2a-24c4ce82fa0c",
   "metadata": {},
   "source": [
    ">When we used the assignment operator - both lst0, lst1 are pointed to the same address in memory"
   ]
  },
  {
   "cell_type": "code",
   "execution_count": 6,
   "id": "d07819b0-4afc-4724-8a9f-dce15673a31b",
   "metadata": {},
   "outputs": [
    {
     "data": {
      "text/plain": [
       "[1, 2, 3, 4, 5]"
      ]
     },
     "execution_count": 6,
     "metadata": {},
     "output_type": "execute_result"
    }
   ],
   "source": [
    "lst0"
   ]
  },
  {
   "cell_type": "code",
   "execution_count": 7,
   "id": "0bf57ace-19a3-4164-9e25-f8663b0a7215",
   "metadata": {},
   "outputs": [],
   "source": [
    "lst0[2]=20"
   ]
  },
  {
   "cell_type": "code",
   "execution_count": 8,
   "id": "05e86fd8-b332-4701-aef5-9adb4344983d",
   "metadata": {},
   "outputs": [
    {
     "data": {
      "text/plain": [
       "[1, 2, 20, 4, 5]"
      ]
     },
     "execution_count": 8,
     "metadata": {},
     "output_type": "execute_result"
    }
   ],
   "source": [
    "lst0"
   ]
  },
  {
   "cell_type": "code",
   "execution_count": 9,
   "id": "acfb45d1-55ae-487d-ae39-5b11de9a8d5c",
   "metadata": {},
   "outputs": [
    {
     "data": {
      "text/plain": [
       "[1, 2, 20, 4, 5]"
      ]
     },
     "execution_count": 9,
     "metadata": {},
     "output_type": "execute_result"
    }
   ],
   "source": [
    "lst1"
   ]
  },
  {
   "cell_type": "markdown",
   "id": "d3b2b229-cdde-4fe5-834f-d0ba4b1c22af",
   "metadata": {},
   "source": [
    ">Changes are made in lst0 but they are reflected in both lst0,lst1"
   ]
  },
  {
   "cell_type": "code",
   "execution_count": 10,
   "id": "589cc8f4-7922-40e6-ad75-511a2c4aa256",
   "metadata": {},
   "outputs": [],
   "source": [
    "lst2=lst0.copy()"
   ]
  },
  {
   "cell_type": "code",
   "execution_count": 11,
   "id": "ebfec095-e943-49a3-84ec-b9851bf85b8a",
   "metadata": {},
   "outputs": [
    {
     "data": {
      "text/plain": [
       "139923257049536"
      ]
     },
     "execution_count": 11,
     "metadata": {},
     "output_type": "execute_result"
    }
   ],
   "source": [
    "id(lst2)"
   ]
  },
  {
   "cell_type": "code",
   "execution_count": 12,
   "id": "c9a2d45f-22ec-47dc-8079-932871e7c16b",
   "metadata": {},
   "outputs": [
    {
     "data": {
      "text/plain": [
       "[1, 2, 20, 4, 5]"
      ]
     },
     "execution_count": 12,
     "metadata": {},
     "output_type": "execute_result"
    }
   ],
   "source": [
    "lst2"
   ]
  },
  {
   "cell_type": "code",
   "execution_count": 13,
   "id": "e0a618ce-e31a-42f2-978b-e974fd27f083",
   "metadata": {},
   "outputs": [],
   "source": [
    "lst0[3]=300"
   ]
  },
  {
   "cell_type": "code",
   "execution_count": 14,
   "id": "91063b56-77a5-46fc-b82d-7c3183d731c5",
   "metadata": {},
   "outputs": [
    {
     "data": {
      "text/plain": [
       "[1, 2, 20, 300, 5]"
      ]
     },
     "execution_count": 14,
     "metadata": {},
     "output_type": "execute_result"
    }
   ],
   "source": [
    "lst0"
   ]
  },
  {
   "cell_type": "code",
   "execution_count": 15,
   "id": "5c3640d4-0c96-4fc5-838e-d8e5aba5915b",
   "metadata": {},
   "outputs": [
    {
     "data": {
      "text/plain": [
       "[1, 2, 20, 300, 5]"
      ]
     },
     "execution_count": 15,
     "metadata": {},
     "output_type": "execute_result"
    }
   ],
   "source": [
    "lst1"
   ]
  },
  {
   "cell_type": "code",
   "execution_count": 16,
   "id": "6036d2da-2c07-4a0b-9431-cfaeec72591c",
   "metadata": {},
   "outputs": [
    {
     "data": {
      "text/plain": [
       "[1, 2, 20, 4, 5]"
      ]
     },
     "execution_count": 16,
     "metadata": {},
     "output_type": "execute_result"
    }
   ],
   "source": [
    "lst2"
   ]
  },
  {
   "cell_type": "markdown",
   "id": "33daa82e-3e36-4880-a802-791f6e8cf816",
   "metadata": {},
   "source": [
    "Note:\n",
    "\n",
    "* Shallow copy: When we used the assignment operator lst1=lst0 --- both lst0, lst1 are pointed to the same address in memory, hence the when changes  are made in lst0 they will affect and reflect in lst1 also.\n",
    "* Deep Copy: When we used the copy, lst2=lst0.copy() --- a copy of lst0 is created as lst2 and lst2 is pointed to diff space hence the changes in lst0 won't affect lst2"
   ]
  },
  {
   "cell_type": "code",
   "execution_count": 29,
   "id": "37664cf0-6faa-4c62-8084-7f0bd6b2002f",
   "metadata": {},
   "outputs": [],
   "source": [
    "t=(1,2,3,\"krish\",4+6j,True)"
   ]
  },
  {
   "cell_type": "code",
   "execution_count": 30,
   "id": "bd68f54e-09e6-477b-a2ca-71c2dd4ad173",
   "metadata": {},
   "outputs": [
    {
     "data": {
      "text/plain": [
       "1"
      ]
     },
     "execution_count": 30,
     "metadata": {},
     "output_type": "execute_result"
    }
   ],
   "source": [
    "t.index(2)"
   ]
  },
  {
   "cell_type": "code",
   "execution_count": 19,
   "id": "b2741ecd-e3da-4a67-a2c1-9fcd6a423b68",
   "metadata": {},
   "outputs": [],
   "source": [
    "s={1,2,3,5,6,5,6,5,6}"
   ]
  },
  {
   "cell_type": "code",
   "execution_count": 20,
   "id": "0de72e89-782a-467e-b107-bd2ba6bf1498",
   "metadata": {},
   "outputs": [
    {
     "data": {
      "text/plain": [
       "{1, 2, 3, 5, 6}"
      ]
     },
     "execution_count": 20,
     "metadata": {},
     "output_type": "execute_result"
    }
   ],
   "source": [
    "s"
   ]
  },
  {
   "cell_type": "code",
   "execution_count": 21,
   "id": "c2f6c544-12f6-4b24-bb3f-84ab31debbe0",
   "metadata": {},
   "outputs": [
    {
     "data": {
      "text/plain": [
       "set"
      ]
     },
     "execution_count": 21,
     "metadata": {},
     "output_type": "execute_result"
    }
   ],
   "source": [
    "type(s)"
   ]
  },
  {
   "cell_type": "code",
   "execution_count": 22,
   "id": "547a0238-1880-410c-ac39-260c6ff926e8",
   "metadata": {},
   "outputs": [],
   "source": [
    "s.add(100)"
   ]
  },
  {
   "cell_type": "code",
   "execution_count": 23,
   "id": "f82e6090-47c3-435a-8425-a74fffa20d7f",
   "metadata": {},
   "outputs": [
    {
     "data": {
      "text/plain": [
       "{1, 2, 3, 5, 6, 100}"
      ]
     },
     "execution_count": 23,
     "metadata": {},
     "output_type": "execute_result"
    }
   ],
   "source": [
    "s"
   ]
  },
  {
   "cell_type": "code",
   "execution_count": 24,
   "id": "bfda6358-09e5-49b8-a567-0be851a56e90",
   "metadata": {},
   "outputs": [],
   "source": [
    "s.add(2)"
   ]
  },
  {
   "cell_type": "code",
   "execution_count": 25,
   "id": "6e7cf427-d800-4636-876f-9661a196ab46",
   "metadata": {},
   "outputs": [
    {
     "data": {
      "text/plain": [
       "{1, 2, 3, 5, 6, 100}"
      ]
     },
     "execution_count": 25,
     "metadata": {},
     "output_type": "execute_result"
    }
   ],
   "source": [
    "s"
   ]
  },
  {
   "cell_type": "code",
   "execution_count": 27,
   "id": "c5dc30ae-8d31-4a09-8ab9-8bc83f783b51",
   "metadata": {},
   "outputs": [],
   "source": [
    "s.clear()"
   ]
  },
  {
   "cell_type": "code",
   "execution_count": 28,
   "id": "027f52f6-0747-44be-9613-b9f3916735cf",
   "metadata": {},
   "outputs": [
    {
     "data": {
      "text/plain": [
       "set()"
      ]
     },
     "execution_count": 28,
     "metadata": {},
     "output_type": "execute_result"
    }
   ],
   "source": [
    "s"
   ]
  },
  {
   "cell_type": "code",
   "execution_count": 40,
   "id": "098b8821-13cf-463d-9137-d93e5da12a28",
   "metadata": {},
   "outputs": [],
   "source": [
    "b={1, 2, 3, 5, 6, 100}\n",
    "b.discard(3)"
   ]
  },
  {
   "cell_type": "code",
   "execution_count": 41,
   "id": "40cb784e-1003-49f6-9386-1c254e210f3f",
   "metadata": {},
   "outputs": [
    {
     "data": {
      "text/plain": [
       "{1, 2, 5, 6, 100}"
      ]
     },
     "execution_count": 41,
     "metadata": {},
     "output_type": "execute_result"
    }
   ],
   "source": [
    "b"
   ]
  },
  {
   "cell_type": "code",
   "execution_count": 42,
   "id": "0bc3609e-c46d-40cc-aa19-4178340456a9",
   "metadata": {},
   "outputs": [
    {
     "data": {
      "text/plain": [
       "1"
      ]
     },
     "execution_count": 42,
     "metadata": {},
     "output_type": "execute_result"
    }
   ],
   "source": [
    "b.pop()"
   ]
  },
  {
   "cell_type": "code",
   "execution_count": 43,
   "id": "e3c23730-ace8-4511-8b3e-1624e5758a3d",
   "metadata": {},
   "outputs": [
    {
     "data": {
      "text/plain": [
       "{2, 5, 6, 100}"
      ]
     },
     "execution_count": 43,
     "metadata": {},
     "output_type": "execute_result"
    }
   ],
   "source": [
    "b"
   ]
  },
  {
   "cell_type": "code",
   "execution_count": 44,
   "id": "c158f9f3-5ced-4664-83f7-6d64474ffb51",
   "metadata": {},
   "outputs": [],
   "source": [
    "d1={'name':'krish', \"sub\":['python','sql','ml','dl'], \"num\":465465}"
   ]
  },
  {
   "cell_type": "code",
   "execution_count": 45,
   "id": "74103873-7b05-41a5-8ca8-a04d0ced29ee",
   "metadata": {},
   "outputs": [
    {
     "data": {
      "text/plain": [
       "dict_keys(['name', 'sub', 'num'])"
      ]
     },
     "execution_count": 45,
     "metadata": {},
     "output_type": "execute_result"
    }
   ],
   "source": [
    "d1.keys()"
   ]
  },
  {
   "cell_type": "code",
   "execution_count": 48,
   "id": "f1651fc8-ff80-412f-97d9-a07fcad2fc88",
   "metadata": {},
   "outputs": [
    {
     "data": {
      "text/plain": [
       "['name', 'sub', 'num']"
      ]
     },
     "execution_count": 48,
     "metadata": {},
     "output_type": "execute_result"
    }
   ],
   "source": [
    "list(d1.keys())"
   ]
  },
  {
   "cell_type": "code",
   "execution_count": 46,
   "id": "db85aa7a-0ead-4499-b7d6-49d2e5e32dc4",
   "metadata": {},
   "outputs": [
    {
     "data": {
      "text/plain": [
       "dict_values(['krish', ['python', 'sql', 'ml', 'dl'], 465465])"
      ]
     },
     "execution_count": 46,
     "metadata": {},
     "output_type": "execute_result"
    }
   ],
   "source": [
    "d1.values()"
   ]
  },
  {
   "cell_type": "code",
   "execution_count": 51,
   "id": "27a9f638-8615-4a08-9d13-f2d6d5734394",
   "metadata": {},
   "outputs": [
    {
     "data": {
      "text/plain": [
       "dict_items([('name', 'krish'), ('sub', ['python', 'sql', 'ml', 'dl']), ('num', 465465)])"
      ]
     },
     "execution_count": 51,
     "metadata": {},
     "output_type": "execute_result"
    }
   ],
   "source": [
    "d1.items() #tuples of key value pairs"
   ]
  },
  {
   "cell_type": "code",
   "execution_count": 52,
   "id": "5ba70010-9719-4832-8cb8-3b10af2f008c",
   "metadata": {},
   "outputs": [
    {
     "data": {
      "text/plain": [
       "[('name', 'krish'), ('sub', ['python', 'sql', 'ml', 'dl']), ('num', 465465)]"
      ]
     },
     "execution_count": 52,
     "metadata": {},
     "output_type": "execute_result"
    }
   ],
   "source": [
    "list(d1.items()) "
   ]
  },
  {
   "cell_type": "code",
   "execution_count": 53,
   "id": "53ee8b78-e173-4f27-b8b9-85b472769dee",
   "metadata": {},
   "outputs": [
    {
     "data": {
      "text/plain": [
       "'krish'"
      ]
     },
     "execution_count": 53,
     "metadata": {},
     "output_type": "execute_result"
    }
   ],
   "source": [
    "d1.get('name')"
   ]
  },
  {
   "cell_type": "code",
   "execution_count": 54,
   "id": "72a167e3-f399-4486-8767-96ab98140d8c",
   "metadata": {},
   "outputs": [
    {
     "data": {
      "text/plain": [
       "'krish'"
      ]
     },
     "execution_count": 54,
     "metadata": {},
     "output_type": "execute_result"
    }
   ],
   "source": [
    "d1['name']"
   ]
  },
  {
   "cell_type": "code",
   "execution_count": 56,
   "id": "baff9e31-d958-476f-8001-af64390acff0",
   "metadata": {},
   "outputs": [
    {
     "data": {
      "text/plain": [
       "'krish'"
      ]
     },
     "execution_count": 56,
     "metadata": {},
     "output_type": "execute_result"
    }
   ],
   "source": [
    "d1.pop('name')"
   ]
  },
  {
   "cell_type": "code",
   "execution_count": 57,
   "id": "cd0d096c-5da5-4f02-92e1-e648adc5218d",
   "metadata": {},
   "outputs": [
    {
     "data": {
      "text/plain": [
       "{'sub': ['python', 'sql', 'ml', 'dl'], 'num': 465465}"
      ]
     },
     "execution_count": 57,
     "metadata": {},
     "output_type": "execute_result"
    }
   ],
   "source": [
    "d1"
   ]
  },
  {
   "cell_type": "code",
   "execution_count": 58,
   "id": "385e646a-e5ca-4fb5-a25f-3df1cb50c466",
   "metadata": {},
   "outputs": [],
   "source": [
    "d1['testkey']='test'"
   ]
  },
  {
   "cell_type": "code",
   "execution_count": 59,
   "id": "9a54e0cb-11f5-4f53-afad-73d200a75930",
   "metadata": {},
   "outputs": [
    {
     "data": {
      "text/plain": [
       "{'sub': ['python', 'sql', 'ml', 'dl'], 'num': 465465, 'testkey': 'test'}"
      ]
     },
     "execution_count": 59,
     "metadata": {},
     "output_type": "execute_result"
    }
   ],
   "source": [
    "d1"
   ]
  },
  {
   "cell_type": "markdown",
   "id": "9835905b-9704-40d7-91a4-e5d8a84d7f92",
   "metadata": {},
   "source": [
    "---------------------------"
   ]
  },
  {
   "cell_type": "code",
   "execution_count": null,
   "id": "0dfd7c48-069a-4fc0-b850-6d20baf32ebf",
   "metadata": {},
   "outputs": [],
   "source": []
  }
 ],
 "metadata": {
  "kernelspec": {
   "display_name": "Python 3 (ipykernel)",
   "language": "python",
   "name": "python3"
  },
  "language_info": {
   "codemirror_mode": {
    "name": "ipython",
    "version": 3
   },
   "file_extension": ".py",
   "mimetype": "text/x-python",
   "name": "python",
   "nbconvert_exporter": "python",
   "pygments_lexer": "ipython3",
   "version": "3.10.9"
  },
  "toc-autonumbering": false,
  "toc-showcode": false,
  "toc-showmarkdowntxt": false,
  "toc-showtags": false
 },
 "nbformat": 4,
 "nbformat_minor": 5
}
